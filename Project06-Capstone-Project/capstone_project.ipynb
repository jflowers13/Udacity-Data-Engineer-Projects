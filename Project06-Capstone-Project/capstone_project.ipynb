{
 "cells": [
  {
   "cell_type": "markdown",
   "metadata": {
    "editable": true
   },
   "source": [
    "# Project Title\n",
    "### Data Engineering Capstone Project\n",
    "\n",
    "#### Project Summary\n",
    "The purpose of this project is to create a Data Lake for the analysis of Immigration Data.  The source datasets include I94 data, US Cities Demographic data, airport code data and temperature data.  The Data Lake will store the information in Parquet format and allow Data Scientists to gain key insights into immigration patterns, including what airports people are coming through, if temperature has any relation to immigration at a particular location and if immigrants from certain locations tend to gravitate twords locations with specific demographics.  This project will create a source of truth data lake and is intended to be combined with other data sources.\n",
    "\n",
    "The project follows the follow steps:\n",
    "* Step 1: Scope the Project and Gather Data\n",
    "* Step 2: Explore and Assess the Data\n",
    "* Step 3: Define the Data Model\n",
    "* Step 4: Run ETL to Model the Data\n",
    "* Step 5: Complete Project Write Up"
   ]
  },
  {
   "cell_type": "code",
   "execution_count": 1,
   "metadata": {
    "editable": true
   },
   "outputs": [],
   "source": [
    "# Do all imports and installs here\n",
    "import pandas as pd\n",
    "import os, glob\n",
    "import configparser\n",
    "from datetime import datetime, timedelta\n",
    "\n",
    "from pyspark.sql import SparkSession, SQLContext\n",
    "from pyspark.sql.functions import *\n",
    "from pyspark import SparkContext, SparkConf\n",
    "from pyspark.sql import types as T\n",
    "from pyspark.sql.types import StructType as R, StructField as Fld\n",
    "import pyspark.sql.functions\n",
    "\n",
    "from read_write import *\n",
    "from cleaning import *\n",
    "from quality_check import *\n",
    "\n"
   ]
  },
  {
   "cell_type": "code",
   "execution_count": 2,
   "metadata": {
    "editable": true
   },
   "outputs": [],
   "source": [
    "# Configuration and paths\n",
    "config = configparser.ConfigParser()\n",
    "config.read('dl.cfg')\n",
    "\n",
    "# Ingest Paths\n",
    "i94_data_path = config['INPUT_PATHS']['I94_INPUT']\n",
    "worldtemp_path = config['INPUT_PATHS']['WORLDTEMP_INPUT']\n",
    "demog_path = config['INPUT_PATHS']['DEMOG_INPUT']\n",
    "arptcodes_path = config['INPUT_PATHS']['AIPORTCODE_INPUT']\n",
    "\n",
    "# Output Paths\n",
    "staged_path = config['OUTPUT_PATHS']['STAGED_PATH']\n",
    "output_path = config['OUTPUT_PATHS']['DATALAKE_PATH']\n",
    "\n",
    "# Lake Folders\n",
    "i94_fldr = config['LAKE_FOLDER']['IMMI_FOLDER']\n",
    "worldtemp_fldr = config['LAKE_FOLDER']['WRLDTMP_FOLDER']\n",
    "demog_fldr = config['LAKE_FOLDER']['DEMOG_FOLDER']\n",
    "arptcodes_fldr = config['LAKE_FOLDER']['ARPTCD_FOLDER']\n",
    "\n"
   ]
  },
  {
   "cell_type": "code",
   "execution_count": 3,
   "metadata": {
    "editable": true
   },
   "outputs": [
    {
     "data": {
      "text/html": [
       "\n",
       "            <div>\n",
       "                <p><b>SparkSession - hive</b></p>\n",
       "                \n",
       "        <div>\n",
       "            <p><b>SparkContext</b></p>\n",
       "\n",
       "            <p><a href=\"http://fe4409a5eaf0:4040\">Spark UI</a></p>\n",
       "\n",
       "            <dl>\n",
       "              <dt>Version</dt>\n",
       "                <dd><code>v2.4.3</code></dd>\n",
       "              <dt>Master</dt>\n",
       "                <dd><code>local[*]</code></dd>\n",
       "              <dt>AppName</dt>\n",
       "                <dd><code>capstone</code></dd>\n",
       "            </dl>\n",
       "        </div>\n",
       "        \n",
       "            </div>\n",
       "        "
      ],
      "text/plain": [
       "<pyspark.sql.session.SparkSession at 0x7efd73785748>"
      ]
     },
     "execution_count": 3,
     "metadata": {},
     "output_type": "execute_result"
    }
   ],
   "source": [
    "# Create spark session\n",
    "\n",
    "spark = SparkSession.builder \\\n",
    "        .appName(\"capstone\") \\\n",
    "        .config(\"spark.jars.repositories\", \"https://repos.spark-packages.org/\") \\\n",
    "        .config(\"spark.jars.packages\", \"saurfang:spark-sas7bdat:2.0.0-s_2.11\") \\\n",
    "        .enableHiveSupport().getOrCreate()\n",
    "\n",
    "spark\n"
   ]
  },
  {
   "cell_type": "markdown",
   "metadata": {
    "editable": true
   },
   "source": [
    "### Step 1: Scope the Project and Gather Data\n",
    "\n",
    "#### Scope \n",
    "Explain what you plan to do in the project in more detail. What data do you use? What is your end solution look like? What tools did you use? etc>\n",
    "\n",
    "A Data Lake is being created for the analysis of immigration patterns, including city demographics and temperature.  Apache Spark is used for performing the data processing because it can handle very large datasets and is a scalable solution as datasets grow.  In the end, data scientists will be able to use the Data Lake to mine for patterns relating to immigration.  The data lake is also intended to be combined with other sources of data.  The Data Lake will be a Source of Truth.\n",
    "\n",
    "#### Describe and Gather Data \n",
    "Describe the data sets you're using. Where did it come from? What type of information is included? \n",
    "\n",
    "The datasets I am using include:\n",
    "- I94 Immigration data from the National Travel and Tourism Office (NTTO): [https://www.trade.gov/national-travel-and-tourism-office]\n",
    "- World Temperature Data from Climate Change: Earth Surface Temperature Data: [https://www.kaggle.com/berkeleyearth/climate-change-earth-surface-temperature-data]\n",
    "- US Cities Demographics Data: [https://public.opendatasoft.com/explore/dataset/us-cities-demographics/export/]\n",
    "- Airport Code Data: [https://datahub.io/core/airport-codes#data]"
   ]
  },
  {
   "cell_type": "code",
   "execution_count": 4,
   "metadata": {
    "editable": true
   },
   "outputs": [
    {
     "name": "stdout",
     "output_type": "stream",
     "text": [
      "Loading: /data/18-83510-I94-Data-2016/i94_apr16_sub.sas7bdat\n",
      "Loading: /data/18-83510-I94-Data-2016/i94_sep16_sub.sas7bdat\n",
      "Loading: /data/18-83510-I94-Data-2016/i94_nov16_sub.sas7bdat\n",
      "Loading: /data/18-83510-I94-Data-2016/i94_mar16_sub.sas7bdat\n",
      "Loading: /data/18-83510-I94-Data-2016/i94_jun16_sub.sas7bdat\n",
      "Loading: /data/18-83510-I94-Data-2016/i94_aug16_sub.sas7bdat\n",
      "Loading: /data/18-83510-I94-Data-2016/i94_may16_sub.sas7bdat\n",
      "Loading: /data/18-83510-I94-Data-2016/i94_jan16_sub.sas7bdat\n",
      "Loading: /data/18-83510-I94-Data-2016/i94_oct16_sub.sas7bdat\n",
      "Loading: /data/18-83510-I94-Data-2016/i94_jul16_sub.sas7bdat\n",
      "Loading: /data/18-83510-I94-Data-2016/i94_feb16_sub.sas7bdat\n",
      "Loading: /data/18-83510-I94-Data-2016/i94_dec16_sub.sas7bdat\n"
     ]
    }
   ],
   "source": [
    "# Ingest I94 Immigration Data\n",
    "df_i94 = ingest_i94(spark, i94_data_path, staged_path)"
   ]
  },
  {
   "cell_type": "code",
   "execution_count": 5,
   "metadata": {
    "editable": true
   },
   "outputs": [],
   "source": [
    "# Ingest World Temperature Data by City\n",
    "df_worldtemp = ingest_worldtemp(spark, worldtemp_path)"
   ]
  },
  {
   "cell_type": "code",
   "execution_count": 6,
   "metadata": {
    "editable": true
   },
   "outputs": [],
   "source": [
    "# Ingest US Cities Demographics\n",
    "df_demog = ingest_demog(spark, demog_path)"
   ]
  },
  {
   "cell_type": "code",
   "execution_count": 7,
   "metadata": {
    "editable": true
   },
   "outputs": [],
   "source": [
    "# Ingest Airport Code Data by City\n",
    "df_arptcodes = ingest_arptcodes(spark, arptcodes_path)"
   ]
  },
  {
   "cell_type": "markdown",
   "metadata": {
    "editable": true
   },
   "source": [
    "#### Show Data Samples, Schemas and record counts for source data"
   ]
  },
  {
   "cell_type": "markdown",
   "metadata": {
    "editable": true
   },
   "source": [
    "##### Immigration Data from Source"
   ]
  },
  {
   "cell_type": "code",
   "execution_count": 8,
   "metadata": {
    "editable": true,
    "toggleable": false,
    "ulab": {
     "buttons": {
      "ulab-button-toggle-5137c9b3": {
       "style": "primary"
      }
     }
    }
   },
   "outputs": [
    {
     "name": "stdout",
     "output_type": "stream",
     "text": [
      "I94 Immigration Data:\n",
      "+---------+------+------+------+------+-------+-------+-------+-------+-------+------+-------+-----+--------+--------+-----+-------+-------+-------+-------+-------+--------+------+------+-------+-------------+-----+--------+\n",
      "|    cicid| i94yr|i94mon|i94cit|i94res|i94port|arrdate|i94mode|i94addr|depdate|i94bir|i94visa|count|dtadfile|visapost|occup|entdepa|entdepd|entdepu|matflag|biryear| dtaddto|gender|insnum|airline|       admnum|fltno|visatype|\n",
      "+---------+------+------+------+------+-------+-------+-------+-------+-------+------+-------+-----+--------+--------+-----+-------+-------+-------+-------+-------+--------+------+------+-------+-------------+-----+--------+\n",
      "|5680949.0|2016.0|   7.0| 117.0| 117.0|    NYC|20659.0|    1.0|     NY|   null|  30.0|    3.0|  1.0|20160724|     NPL| null|      G|   null|   null|   null| 1986.0|     D/S|     F|  null|     IG|2.947450085E9| 3940|      F1|\n",
      "|5680950.0|2016.0|   7.0| 245.0| 245.0|    DET|20659.0|    1.0|     IL|20679.0|  46.0|    2.0|  1.0|20160813|    null| null|      G|      O|   null|      M| 1970.0|01232017|     M| 78652|     DL|2.947451085E9|  188|      B2|\n",
      "|5680953.0|2016.0|   7.0| 245.0| 245.0|    SEA|20659.0|    1.0|     WA|20670.0|  36.0|    2.0|  1.0|20160804|    null| null|      G|      O|   null|      M| 1980.0|01232017|     F|130660|     OZ|2.947454785E9|  272|      B2|\n",
      "|5680954.0|2016.0|   7.0| 135.0| 135.0|    ORL|20659.0|    1.0|     FL|20673.0|  17.0|    2.0|  1.0|20160808|    null| null|      O|      O|   null|      M| 1999.0|10212016|     F|294090|     MT|2.947455685E9|  176|      WT|\n",
      "|5680956.0|2016.0|   7.0| 213.0| 213.0|    MIA|20659.0|    1.0|     FL|20728.0|  23.0|    2.0|  1.0|20160724|     HYD| null|      G|      O|   null|      M| 1993.0|01232017|     M| 21180|     QR|2.947457485E9|  777|      B2|\n",
      "|5680958.0|2016.0|   7.0| 689.0| 689.0|    ORL|20659.0|    1.0|     FL|20663.0|  56.0|    2.0|  1.0|20160729|    null| null|      G|      O|   null|      M| 1960.0|01232017|     F|154782|     JJ|2.947459285E9| 8086|      B2|\n",
      "|5680959.0|2016.0|   7.0| 135.0| 135.0|    SFR|20659.0|    1.0|     CA|   null|  44.0|    1.0|  1.0|20160724|     LND| null|      G|   null|   null|   null| 1972.0|07232018|     M|  null|     BA|2.947460185E9|  285|      E2|\n",
      "|5680964.0|2016.0|   7.0| 104.0| 104.0|    LVG|20659.0|    1.0|     UT|20680.0|  14.0|    2.0|  1.0|20160815|    null| null|      G|      O|   null|      M| 2002.0|10212016|     M|108275|     DE|2.947465785E9| 2062|      WT|\n",
      "|5680966.0|2016.0|   7.0| 582.0| 582.0|    YHC|20659.0|    2.0|   null|20665.0|  45.0|    2.0|  1.0|20160730|    null| null|      G|      R|   null|      M| 1971.0|01232017|     F| 25859|    VES|2.947467585E9|91894|      B2|\n",
      "|5680967.0|2016.0|   7.0| 254.0| 276.0|    HHW|20659.0|    1.0|     HI|20664.0|  31.0|    2.0|  1.0|20160730|    null| null|      G|      O|   null|      M| 1985.0|10212016|     M|152070|     KE|2.947468485E9|   53|      WT|\n",
      "+---------+------+------+------+------+-------+-------+-------+-------+-------+------+-------+-----+--------+--------+-----+-------+-------+-------+-------+-------+--------+------+------+-------+-------------+-----+--------+\n",
      "only showing top 10 rows\n",
      "\n"
     ]
    }
   ],
   "source": [
    "print(\"I94 Immigration Data:\")\n",
    "\n",
    "# Using show instead of toPandas inorder to get a complete view of the columns\n",
    "df_i94.show(10)\n"
   ]
  },
  {
   "cell_type": "code",
   "execution_count": 9,
   "metadata": {
    "editable": true
   },
   "outputs": [
    {
     "name": "stdout",
     "output_type": "stream",
     "text": [
      "I94 Immigration Data Schema:\n",
      "root\n",
      " |-- cicid: double (nullable = true)\n",
      " |-- i94yr: double (nullable = true)\n",
      " |-- i94mon: double (nullable = true)\n",
      " |-- i94cit: double (nullable = true)\n",
      " |-- i94res: double (nullable = true)\n",
      " |-- i94port: string (nullable = true)\n",
      " |-- arrdate: double (nullable = true)\n",
      " |-- i94mode: double (nullable = true)\n",
      " |-- i94addr: string (nullable = true)\n",
      " |-- depdate: double (nullable = true)\n",
      " |-- i94bir: double (nullable = true)\n",
      " |-- i94visa: double (nullable = true)\n",
      " |-- count: double (nullable = true)\n",
      " |-- dtadfile: string (nullable = true)\n",
      " |-- visapost: string (nullable = true)\n",
      " |-- occup: string (nullable = true)\n",
      " |-- entdepa: string (nullable = true)\n",
      " |-- entdepd: string (nullable = true)\n",
      " |-- entdepu: string (nullable = true)\n",
      " |-- matflag: string (nullable = true)\n",
      " |-- biryear: double (nullable = true)\n",
      " |-- dtaddto: string (nullable = true)\n",
      " |-- gender: string (nullable = true)\n",
      " |-- insnum: string (nullable = true)\n",
      " |-- airline: string (nullable = true)\n",
      " |-- admnum: double (nullable = true)\n",
      " |-- fltno: string (nullable = true)\n",
      " |-- visatype: string (nullable = true)\n",
      "\n"
     ]
    }
   ],
   "source": [
    "print(\"I94 Immigration Data Schema:\")\n",
    "df_i94.printSchema()"
   ]
  },
  {
   "cell_type": "code",
   "execution_count": 10,
   "metadata": {
    "editable": true
   },
   "outputs": [
    {
     "name": "stdout",
     "output_type": "stream",
     "text": [
      "I94 Immigration Data Schema Record Count: 40790529\n"
     ]
    }
   ],
   "source": [
    "print(\"I94 Immigration Data Schema Record Count: {}\".format(df_i94.count()))"
   ]
  },
  {
   "cell_type": "markdown",
   "metadata": {
    "editable": true
   },
   "source": [
    "##### Global Land Temperatures from Source"
   ]
  },
  {
   "cell_type": "code",
   "execution_count": 11,
   "metadata": {
    "editable": true
   },
   "outputs": [
    {
     "name": "stdout",
     "output_type": "stream",
     "text": [
      "Global Land Temperatures by City:\n"
     ]
    },
    {
     "data": {
      "text/html": [
       "<div>\n",
       "<style scoped>\n",
       "    .dataframe tbody tr th:only-of-type {\n",
       "        vertical-align: middle;\n",
       "    }\n",
       "\n",
       "    .dataframe tbody tr th {\n",
       "        vertical-align: top;\n",
       "    }\n",
       "\n",
       "    .dataframe thead th {\n",
       "        text-align: right;\n",
       "    }\n",
       "</style>\n",
       "<table border=\"1\" class=\"dataframe\">\n",
       "  <thead>\n",
       "    <tr style=\"text-align: right;\">\n",
       "      <th></th>\n",
       "      <th>dt</th>\n",
       "      <th>AverageTemperature</th>\n",
       "      <th>AverageTemperatureUncertainty</th>\n",
       "      <th>City</th>\n",
       "      <th>Country</th>\n",
       "      <th>Latitude</th>\n",
       "      <th>Longitude</th>\n",
       "    </tr>\n",
       "  </thead>\n",
       "  <tbody>\n",
       "    <tr>\n",
       "      <th>0</th>\n",
       "      <td>2013-09-01</td>\n",
       "      <td>NaN</td>\n",
       "      <td>NaN</td>\n",
       "      <td>Abadan</td>\n",
       "      <td>Iran</td>\n",
       "      <td>29.74N</td>\n",
       "      <td>48.00E</td>\n",
       "    </tr>\n",
       "    <tr>\n",
       "      <th>1</th>\n",
       "      <td>2013-09-01</td>\n",
       "      <td>NaN</td>\n",
       "      <td>NaN</td>\n",
       "      <td>Abiko</td>\n",
       "      <td>Japan</td>\n",
       "      <td>36.17N</td>\n",
       "      <td>139.23E</td>\n",
       "    </tr>\n",
       "    <tr>\n",
       "      <th>2</th>\n",
       "      <td>2013-09-01</td>\n",
       "      <td>NaN</td>\n",
       "      <td>NaN</td>\n",
       "      <td>Abakaliki</td>\n",
       "      <td>Nigeria</td>\n",
       "      <td>5.63N</td>\n",
       "      <td>8.07E</td>\n",
       "    </tr>\n",
       "    <tr>\n",
       "      <th>3</th>\n",
       "      <td>2013-09-01</td>\n",
       "      <td>NaN</td>\n",
       "      <td>NaN</td>\n",
       "      <td>Århus</td>\n",
       "      <td>Denmark</td>\n",
       "      <td>57.05N</td>\n",
       "      <td>10.33E</td>\n",
       "    </tr>\n",
       "    <tr>\n",
       "      <th>4</th>\n",
       "      <td>2013-09-01</td>\n",
       "      <td>NaN</td>\n",
       "      <td>NaN</td>\n",
       "      <td>Abakan</td>\n",
       "      <td>Russia</td>\n",
       "      <td>53.84N</td>\n",
       "      <td>91.36E</td>\n",
       "    </tr>\n",
       "    <tr>\n",
       "      <th>5</th>\n",
       "      <td>2013-09-01</td>\n",
       "      <td>NaN</td>\n",
       "      <td>NaN</td>\n",
       "      <td>Çorum</td>\n",
       "      <td>Turkey</td>\n",
       "      <td>40.99N</td>\n",
       "      <td>34.08E</td>\n",
       "    </tr>\n",
       "    <tr>\n",
       "      <th>6</th>\n",
       "      <td>2013-09-01</td>\n",
       "      <td>15.252</td>\n",
       "      <td>1.056</td>\n",
       "      <td>Abbotsford</td>\n",
       "      <td>Canada</td>\n",
       "      <td>49.03N</td>\n",
       "      <td>122.45W</td>\n",
       "    </tr>\n",
       "    <tr>\n",
       "      <th>7</th>\n",
       "      <td>2013-09-01</td>\n",
       "      <td>NaN</td>\n",
       "      <td>NaN</td>\n",
       "      <td>Ürümqi</td>\n",
       "      <td>China</td>\n",
       "      <td>44.20N</td>\n",
       "      <td>87.20E</td>\n",
       "    </tr>\n",
       "    <tr>\n",
       "      <th>8</th>\n",
       "      <td>2013-09-01</td>\n",
       "      <td>NaN</td>\n",
       "      <td>NaN</td>\n",
       "      <td>Abengourou</td>\n",
       "      <td>Côte D'Ivoire</td>\n",
       "      <td>7.23N</td>\n",
       "      <td>4.05W</td>\n",
       "    </tr>\n",
       "    <tr>\n",
       "      <th>9</th>\n",
       "      <td>2013-09-01</td>\n",
       "      <td>NaN</td>\n",
       "      <td>NaN</td>\n",
       "      <td>Aachen</td>\n",
       "      <td>Germany</td>\n",
       "      <td>50.63N</td>\n",
       "      <td>6.34E</td>\n",
       "    </tr>\n",
       "  </tbody>\n",
       "</table>\n",
       "</div>"
      ],
      "text/plain": [
       "          dt  AverageTemperature  AverageTemperatureUncertainty        City  \\\n",
       "0 2013-09-01                 NaN                            NaN      Abadan   \n",
       "1 2013-09-01                 NaN                            NaN       Abiko   \n",
       "2 2013-09-01                 NaN                            NaN   Abakaliki   \n",
       "3 2013-09-01                 NaN                            NaN       Århus   \n",
       "4 2013-09-01                 NaN                            NaN      Abakan   \n",
       "5 2013-09-01                 NaN                            NaN       Çorum   \n",
       "6 2013-09-01              15.252                          1.056  Abbotsford   \n",
       "7 2013-09-01                 NaN                            NaN      Ürümqi   \n",
       "8 2013-09-01                 NaN                            NaN  Abengourou   \n",
       "9 2013-09-01                 NaN                            NaN      Aachen   \n",
       "\n",
       "         Country Latitude Longitude  \n",
       "0           Iran   29.74N    48.00E  \n",
       "1          Japan   36.17N   139.23E  \n",
       "2        Nigeria    5.63N     8.07E  \n",
       "3        Denmark   57.05N    10.33E  \n",
       "4         Russia   53.84N    91.36E  \n",
       "5         Turkey   40.99N    34.08E  \n",
       "6         Canada   49.03N   122.45W  \n",
       "7          China   44.20N    87.20E  \n",
       "8  Côte D'Ivoire    7.23N     4.05W  \n",
       "9        Germany   50.63N     6.34E  "
      ]
     },
     "execution_count": 11,
     "metadata": {},
     "output_type": "execute_result"
    }
   ],
   "source": [
    "print(\"Global Land Temperatures by City:\")\n",
    "df_worldtemp.sort(\"dt\", ascending=False).limit(10).toPandas()"
   ]
  },
  {
   "cell_type": "code",
   "execution_count": 12,
   "metadata": {
    "editable": true
   },
   "outputs": [
    {
     "name": "stdout",
     "output_type": "stream",
     "text": [
      "Global Land Temperatures by City Schema:\n",
      "root\n",
      " |-- dt: timestamp (nullable = true)\n",
      " |-- AverageTemperature: double (nullable = true)\n",
      " |-- AverageTemperatureUncertainty: double (nullable = true)\n",
      " |-- City: string (nullable = true)\n",
      " |-- Country: string (nullable = true)\n",
      " |-- Latitude: string (nullable = true)\n",
      " |-- Longitude: string (nullable = true)\n",
      "\n"
     ]
    }
   ],
   "source": [
    "print(\"Global Land Temperatures by City Schema:\")\n",
    "df_worldtemp.printSchema()"
   ]
  },
  {
   "cell_type": "code",
   "execution_count": 13,
   "metadata": {
    "editable": true
   },
   "outputs": [
    {
     "name": "stdout",
     "output_type": "stream",
     "text": [
      "Global Land Temperatures by City Record Count: 8599212\n"
     ]
    }
   ],
   "source": [
    "print(\"Global Land Temperatures by City Record Count: {}\".format(df_worldtemp.count()))"
   ]
  },
  {
   "cell_type": "markdown",
   "metadata": {
    "editable": true
   },
   "source": [
    "##### US Cities Demographics Data from Source"
   ]
  },
  {
   "cell_type": "code",
   "execution_count": 14,
   "metadata": {
    "editable": true
   },
   "outputs": [
    {
     "name": "stdout",
     "output_type": "stream",
     "text": [
      "US Cities Demographics Data:\n"
     ]
    },
    {
     "data": {
      "text/html": [
       "<div>\n",
       "<style scoped>\n",
       "    .dataframe tbody tr th:only-of-type {\n",
       "        vertical-align: middle;\n",
       "    }\n",
       "\n",
       "    .dataframe tbody tr th {\n",
       "        vertical-align: top;\n",
       "    }\n",
       "\n",
       "    .dataframe thead th {\n",
       "        text-align: right;\n",
       "    }\n",
       "</style>\n",
       "<table border=\"1\" class=\"dataframe\">\n",
       "  <thead>\n",
       "    <tr style=\"text-align: right;\">\n",
       "      <th></th>\n",
       "      <th>City</th>\n",
       "      <th>State</th>\n",
       "      <th>Median Age</th>\n",
       "      <th>Male Population</th>\n",
       "      <th>Female Population</th>\n",
       "      <th>Total Population</th>\n",
       "      <th>Number of Veterans</th>\n",
       "      <th>Foreign-born</th>\n",
       "      <th>Average Household Size</th>\n",
       "      <th>State Code</th>\n",
       "      <th>Race</th>\n",
       "      <th>Count</th>\n",
       "    </tr>\n",
       "  </thead>\n",
       "  <tbody>\n",
       "    <tr>\n",
       "      <th>0</th>\n",
       "      <td>Silver Spring</td>\n",
       "      <td>Maryland</td>\n",
       "      <td>33.8</td>\n",
       "      <td>40601</td>\n",
       "      <td>41862</td>\n",
       "      <td>82463</td>\n",
       "      <td>1562</td>\n",
       "      <td>30908</td>\n",
       "      <td>2.60</td>\n",
       "      <td>MD</td>\n",
       "      <td>Hispanic or Latino</td>\n",
       "      <td>25924</td>\n",
       "    </tr>\n",
       "    <tr>\n",
       "      <th>1</th>\n",
       "      <td>Quincy</td>\n",
       "      <td>Massachusetts</td>\n",
       "      <td>41.0</td>\n",
       "      <td>44129</td>\n",
       "      <td>49500</td>\n",
       "      <td>93629</td>\n",
       "      <td>4147</td>\n",
       "      <td>32935</td>\n",
       "      <td>2.39</td>\n",
       "      <td>MA</td>\n",
       "      <td>White</td>\n",
       "      <td>58723</td>\n",
       "    </tr>\n",
       "    <tr>\n",
       "      <th>2</th>\n",
       "      <td>Hoover</td>\n",
       "      <td>Alabama</td>\n",
       "      <td>38.5</td>\n",
       "      <td>38040</td>\n",
       "      <td>46799</td>\n",
       "      <td>84839</td>\n",
       "      <td>4819</td>\n",
       "      <td>8229</td>\n",
       "      <td>2.58</td>\n",
       "      <td>AL</td>\n",
       "      <td>Asian</td>\n",
       "      <td>4759</td>\n",
       "    </tr>\n",
       "    <tr>\n",
       "      <th>3</th>\n",
       "      <td>Rancho Cucamonga</td>\n",
       "      <td>California</td>\n",
       "      <td>34.5</td>\n",
       "      <td>88127</td>\n",
       "      <td>87105</td>\n",
       "      <td>175232</td>\n",
       "      <td>5821</td>\n",
       "      <td>33878</td>\n",
       "      <td>3.18</td>\n",
       "      <td>CA</td>\n",
       "      <td>Black or African-American</td>\n",
       "      <td>24437</td>\n",
       "    </tr>\n",
       "    <tr>\n",
       "      <th>4</th>\n",
       "      <td>Newark</td>\n",
       "      <td>New Jersey</td>\n",
       "      <td>34.6</td>\n",
       "      <td>138040</td>\n",
       "      <td>143873</td>\n",
       "      <td>281913</td>\n",
       "      <td>5829</td>\n",
       "      <td>86253</td>\n",
       "      <td>2.73</td>\n",
       "      <td>NJ</td>\n",
       "      <td>White</td>\n",
       "      <td>76402</td>\n",
       "    </tr>\n",
       "    <tr>\n",
       "      <th>5</th>\n",
       "      <td>Peoria</td>\n",
       "      <td>Illinois</td>\n",
       "      <td>33.1</td>\n",
       "      <td>56229</td>\n",
       "      <td>62432</td>\n",
       "      <td>118661</td>\n",
       "      <td>6634</td>\n",
       "      <td>7517</td>\n",
       "      <td>2.40</td>\n",
       "      <td>IL</td>\n",
       "      <td>American Indian and Alaska Native</td>\n",
       "      <td>1343</td>\n",
       "    </tr>\n",
       "    <tr>\n",
       "      <th>6</th>\n",
       "      <td>Avondale</td>\n",
       "      <td>Arizona</td>\n",
       "      <td>29.1</td>\n",
       "      <td>38712</td>\n",
       "      <td>41971</td>\n",
       "      <td>80683</td>\n",
       "      <td>4815</td>\n",
       "      <td>8355</td>\n",
       "      <td>3.18</td>\n",
       "      <td>AZ</td>\n",
       "      <td>Black or African-American</td>\n",
       "      <td>11592</td>\n",
       "    </tr>\n",
       "    <tr>\n",
       "      <th>7</th>\n",
       "      <td>West Covina</td>\n",
       "      <td>California</td>\n",
       "      <td>39.8</td>\n",
       "      <td>51629</td>\n",
       "      <td>56860</td>\n",
       "      <td>108489</td>\n",
       "      <td>3800</td>\n",
       "      <td>37038</td>\n",
       "      <td>3.56</td>\n",
       "      <td>CA</td>\n",
       "      <td>Asian</td>\n",
       "      <td>32716</td>\n",
       "    </tr>\n",
       "    <tr>\n",
       "      <th>8</th>\n",
       "      <td>O'Fallon</td>\n",
       "      <td>Missouri</td>\n",
       "      <td>36.0</td>\n",
       "      <td>41762</td>\n",
       "      <td>43270</td>\n",
       "      <td>85032</td>\n",
       "      <td>5783</td>\n",
       "      <td>3269</td>\n",
       "      <td>2.77</td>\n",
       "      <td>MO</td>\n",
       "      <td>Hispanic or Latino</td>\n",
       "      <td>2583</td>\n",
       "    </tr>\n",
       "    <tr>\n",
       "      <th>9</th>\n",
       "      <td>High Point</td>\n",
       "      <td>North Carolina</td>\n",
       "      <td>35.5</td>\n",
       "      <td>51751</td>\n",
       "      <td>58077</td>\n",
       "      <td>109828</td>\n",
       "      <td>5204</td>\n",
       "      <td>16315</td>\n",
       "      <td>2.65</td>\n",
       "      <td>NC</td>\n",
       "      <td>Asian</td>\n",
       "      <td>11060</td>\n",
       "    </tr>\n",
       "  </tbody>\n",
       "</table>\n",
       "</div>"
      ],
      "text/plain": [
       "               City           State  Median Age  Male Population  \\\n",
       "0     Silver Spring        Maryland        33.8            40601   \n",
       "1            Quincy   Massachusetts        41.0            44129   \n",
       "2            Hoover         Alabama        38.5            38040   \n",
       "3  Rancho Cucamonga      California        34.5            88127   \n",
       "4            Newark      New Jersey        34.6           138040   \n",
       "5            Peoria        Illinois        33.1            56229   \n",
       "6          Avondale         Arizona        29.1            38712   \n",
       "7       West Covina      California        39.8            51629   \n",
       "8          O'Fallon        Missouri        36.0            41762   \n",
       "9        High Point  North Carolina        35.5            51751   \n",
       "\n",
       "   Female Population  Total Population  Number of Veterans  Foreign-born  \\\n",
       "0              41862             82463                1562         30908   \n",
       "1              49500             93629                4147         32935   \n",
       "2              46799             84839                4819          8229   \n",
       "3              87105            175232                5821         33878   \n",
       "4             143873            281913                5829         86253   \n",
       "5              62432            118661                6634          7517   \n",
       "6              41971             80683                4815          8355   \n",
       "7              56860            108489                3800         37038   \n",
       "8              43270             85032                5783          3269   \n",
       "9              58077            109828                5204         16315   \n",
       "\n",
       "   Average Household Size State Code                               Race  Count  \n",
       "0                    2.60         MD                 Hispanic or Latino  25924  \n",
       "1                    2.39         MA                              White  58723  \n",
       "2                    2.58         AL                              Asian   4759  \n",
       "3                    3.18         CA          Black or African-American  24437  \n",
       "4                    2.73         NJ                              White  76402  \n",
       "5                    2.40         IL  American Indian and Alaska Native   1343  \n",
       "6                    3.18         AZ          Black or African-American  11592  \n",
       "7                    3.56         CA                              Asian  32716  \n",
       "8                    2.77         MO                 Hispanic or Latino   2583  \n",
       "9                    2.65         NC                              Asian  11060  "
      ]
     },
     "execution_count": 14,
     "metadata": {},
     "output_type": "execute_result"
    }
   ],
   "source": [
    "print(\"US Cities Demographics Data:\")\n",
    "df_demog.limit(10).toPandas()"
   ]
  },
  {
   "cell_type": "code",
   "execution_count": 15,
   "metadata": {
    "editable": true
   },
   "outputs": [
    {
     "name": "stdout",
     "output_type": "stream",
     "text": [
      "US Cities Demographics Data Schema:\n",
      "root\n",
      " |-- City: string (nullable = true)\n",
      " |-- State: string (nullable = true)\n",
      " |-- Median Age: double (nullable = true)\n",
      " |-- Male Population: integer (nullable = true)\n",
      " |-- Female Population: integer (nullable = true)\n",
      " |-- Total Population: integer (nullable = true)\n",
      " |-- Number of Veterans: integer (nullable = true)\n",
      " |-- Foreign-born: integer (nullable = true)\n",
      " |-- Average Household Size: double (nullable = true)\n",
      " |-- State Code: string (nullable = true)\n",
      " |-- Race: string (nullable = true)\n",
      " |-- Count: integer (nullable = true)\n",
      "\n"
     ]
    }
   ],
   "source": [
    "print(\"US Cities Demographics Data Schema:\")\n",
    "df_demog.printSchema()"
   ]
  },
  {
   "cell_type": "code",
   "execution_count": 16,
   "metadata": {
    "editable": true
   },
   "outputs": [
    {
     "name": "stdout",
     "output_type": "stream",
     "text": [
      "US Cities Demographics Record Count: 2891\n"
     ]
    }
   ],
   "source": [
    "print(\"US Cities Demographics Record Count: {}\".format(df_demog.count()))"
   ]
  },
  {
   "cell_type": "markdown",
   "metadata": {
    "editable": true
   },
   "source": [
    "##### Airport Code Data from Source"
   ]
  },
  {
   "cell_type": "code",
   "execution_count": 17,
   "metadata": {
    "editable": true
   },
   "outputs": [
    {
     "name": "stdout",
     "output_type": "stream",
     "text": [
      "Airport Code Data:\n"
     ]
    },
    {
     "data": {
      "text/html": [
       "<div>\n",
       "<style scoped>\n",
       "    .dataframe tbody tr th:only-of-type {\n",
       "        vertical-align: middle;\n",
       "    }\n",
       "\n",
       "    .dataframe tbody tr th {\n",
       "        vertical-align: top;\n",
       "    }\n",
       "\n",
       "    .dataframe thead th {\n",
       "        text-align: right;\n",
       "    }\n",
       "</style>\n",
       "<table border=\"1\" class=\"dataframe\">\n",
       "  <thead>\n",
       "    <tr style=\"text-align: right;\">\n",
       "      <th></th>\n",
       "      <th>ident</th>\n",
       "      <th>type</th>\n",
       "      <th>name</th>\n",
       "      <th>elevation_ft</th>\n",
       "      <th>continent</th>\n",
       "      <th>iso_country</th>\n",
       "      <th>iso_region</th>\n",
       "      <th>municipality</th>\n",
       "      <th>gps_code</th>\n",
       "      <th>iata_code</th>\n",
       "      <th>local_code</th>\n",
       "      <th>coordinates</th>\n",
       "    </tr>\n",
       "  </thead>\n",
       "  <tbody>\n",
       "    <tr>\n",
       "      <th>0</th>\n",
       "      <td>00A</td>\n",
       "      <td>heliport</td>\n",
       "      <td>Total Rf Heliport</td>\n",
       "      <td>11</td>\n",
       "      <td>NA</td>\n",
       "      <td>US</td>\n",
       "      <td>US-PA</td>\n",
       "      <td>Bensalem</td>\n",
       "      <td>00A</td>\n",
       "      <td>None</td>\n",
       "      <td>00A</td>\n",
       "      <td>-74.93360137939453, 40.07080078125</td>\n",
       "    </tr>\n",
       "    <tr>\n",
       "      <th>1</th>\n",
       "      <td>00AA</td>\n",
       "      <td>small_airport</td>\n",
       "      <td>Aero B Ranch Airport</td>\n",
       "      <td>3435</td>\n",
       "      <td>NA</td>\n",
       "      <td>US</td>\n",
       "      <td>US-KS</td>\n",
       "      <td>Leoti</td>\n",
       "      <td>00AA</td>\n",
       "      <td>None</td>\n",
       "      <td>00AA</td>\n",
       "      <td>-101.473911, 38.704022</td>\n",
       "    </tr>\n",
       "    <tr>\n",
       "      <th>2</th>\n",
       "      <td>00AK</td>\n",
       "      <td>small_airport</td>\n",
       "      <td>Lowell Field</td>\n",
       "      <td>450</td>\n",
       "      <td>NA</td>\n",
       "      <td>US</td>\n",
       "      <td>US-AK</td>\n",
       "      <td>Anchor Point</td>\n",
       "      <td>00AK</td>\n",
       "      <td>None</td>\n",
       "      <td>00AK</td>\n",
       "      <td>-151.695999146, 59.94919968</td>\n",
       "    </tr>\n",
       "    <tr>\n",
       "      <th>3</th>\n",
       "      <td>00AL</td>\n",
       "      <td>small_airport</td>\n",
       "      <td>Epps Airpark</td>\n",
       "      <td>820</td>\n",
       "      <td>NA</td>\n",
       "      <td>US</td>\n",
       "      <td>US-AL</td>\n",
       "      <td>Harvest</td>\n",
       "      <td>00AL</td>\n",
       "      <td>None</td>\n",
       "      <td>00AL</td>\n",
       "      <td>-86.77030181884766, 34.86479949951172</td>\n",
       "    </tr>\n",
       "    <tr>\n",
       "      <th>4</th>\n",
       "      <td>00AR</td>\n",
       "      <td>closed</td>\n",
       "      <td>Newport Hospital &amp; Clinic Heliport</td>\n",
       "      <td>237</td>\n",
       "      <td>NA</td>\n",
       "      <td>US</td>\n",
       "      <td>US-AR</td>\n",
       "      <td>Newport</td>\n",
       "      <td>None</td>\n",
       "      <td>None</td>\n",
       "      <td>None</td>\n",
       "      <td>-91.254898, 35.6087</td>\n",
       "    </tr>\n",
       "    <tr>\n",
       "      <th>5</th>\n",
       "      <td>00AS</td>\n",
       "      <td>small_airport</td>\n",
       "      <td>Fulton Airport</td>\n",
       "      <td>1100</td>\n",
       "      <td>NA</td>\n",
       "      <td>US</td>\n",
       "      <td>US-OK</td>\n",
       "      <td>Alex</td>\n",
       "      <td>00AS</td>\n",
       "      <td>None</td>\n",
       "      <td>00AS</td>\n",
       "      <td>-97.8180194, 34.9428028</td>\n",
       "    </tr>\n",
       "    <tr>\n",
       "      <th>6</th>\n",
       "      <td>00AZ</td>\n",
       "      <td>small_airport</td>\n",
       "      <td>Cordes Airport</td>\n",
       "      <td>3810</td>\n",
       "      <td>NA</td>\n",
       "      <td>US</td>\n",
       "      <td>US-AZ</td>\n",
       "      <td>Cordes</td>\n",
       "      <td>00AZ</td>\n",
       "      <td>None</td>\n",
       "      <td>00AZ</td>\n",
       "      <td>-112.16500091552734, 34.305599212646484</td>\n",
       "    </tr>\n",
       "    <tr>\n",
       "      <th>7</th>\n",
       "      <td>00CA</td>\n",
       "      <td>small_airport</td>\n",
       "      <td>Goldstone /Gts/ Airport</td>\n",
       "      <td>3038</td>\n",
       "      <td>NA</td>\n",
       "      <td>US</td>\n",
       "      <td>US-CA</td>\n",
       "      <td>Barstow</td>\n",
       "      <td>00CA</td>\n",
       "      <td>None</td>\n",
       "      <td>00CA</td>\n",
       "      <td>-116.888000488, 35.350498199499995</td>\n",
       "    </tr>\n",
       "    <tr>\n",
       "      <th>8</th>\n",
       "      <td>00CL</td>\n",
       "      <td>small_airport</td>\n",
       "      <td>Williams Ag Airport</td>\n",
       "      <td>87</td>\n",
       "      <td>NA</td>\n",
       "      <td>US</td>\n",
       "      <td>US-CA</td>\n",
       "      <td>Biggs</td>\n",
       "      <td>00CL</td>\n",
       "      <td>None</td>\n",
       "      <td>00CL</td>\n",
       "      <td>-121.763427, 39.427188</td>\n",
       "    </tr>\n",
       "    <tr>\n",
       "      <th>9</th>\n",
       "      <td>00CN</td>\n",
       "      <td>heliport</td>\n",
       "      <td>Kitchen Creek Helibase Heliport</td>\n",
       "      <td>3350</td>\n",
       "      <td>NA</td>\n",
       "      <td>US</td>\n",
       "      <td>US-CA</td>\n",
       "      <td>Pine Valley</td>\n",
       "      <td>00CN</td>\n",
       "      <td>None</td>\n",
       "      <td>00CN</td>\n",
       "      <td>-116.4597417, 32.7273736</td>\n",
       "    </tr>\n",
       "  </tbody>\n",
       "</table>\n",
       "</div>"
      ],
      "text/plain": [
       "  ident           type                                name  elevation_ft  \\\n",
       "0   00A       heliport                   Total Rf Heliport            11   \n",
       "1  00AA  small_airport                Aero B Ranch Airport          3435   \n",
       "2  00AK  small_airport                        Lowell Field           450   \n",
       "3  00AL  small_airport                        Epps Airpark           820   \n",
       "4  00AR         closed  Newport Hospital & Clinic Heliport           237   \n",
       "5  00AS  small_airport                      Fulton Airport          1100   \n",
       "6  00AZ  small_airport                      Cordes Airport          3810   \n",
       "7  00CA  small_airport             Goldstone /Gts/ Airport          3038   \n",
       "8  00CL  small_airport                 Williams Ag Airport            87   \n",
       "9  00CN       heliport     Kitchen Creek Helibase Heliport          3350   \n",
       "\n",
       "  continent iso_country iso_region  municipality gps_code iata_code  \\\n",
       "0        NA          US      US-PA      Bensalem      00A      None   \n",
       "1        NA          US      US-KS         Leoti     00AA      None   \n",
       "2        NA          US      US-AK  Anchor Point     00AK      None   \n",
       "3        NA          US      US-AL       Harvest     00AL      None   \n",
       "4        NA          US      US-AR       Newport     None      None   \n",
       "5        NA          US      US-OK          Alex     00AS      None   \n",
       "6        NA          US      US-AZ        Cordes     00AZ      None   \n",
       "7        NA          US      US-CA       Barstow     00CA      None   \n",
       "8        NA          US      US-CA         Biggs     00CL      None   \n",
       "9        NA          US      US-CA   Pine Valley     00CN      None   \n",
       "\n",
       "  local_code                              coordinates  \n",
       "0        00A       -74.93360137939453, 40.07080078125  \n",
       "1       00AA                   -101.473911, 38.704022  \n",
       "2       00AK              -151.695999146, 59.94919968  \n",
       "3       00AL    -86.77030181884766, 34.86479949951172  \n",
       "4       None                      -91.254898, 35.6087  \n",
       "5       00AS                  -97.8180194, 34.9428028  \n",
       "6       00AZ  -112.16500091552734, 34.305599212646484  \n",
       "7       00CA       -116.888000488, 35.350498199499995  \n",
       "8       00CL                   -121.763427, 39.427188  \n",
       "9       00CN                 -116.4597417, 32.7273736  "
      ]
     },
     "execution_count": 17,
     "metadata": {},
     "output_type": "execute_result"
    }
   ],
   "source": [
    "print(\"Airport Code Data:\")\n",
    "df_arptcodes.limit(10).toPandas()"
   ]
  },
  {
   "cell_type": "code",
   "execution_count": 18,
   "metadata": {
    "editable": true
   },
   "outputs": [
    {
     "name": "stdout",
     "output_type": "stream",
     "text": [
      "Airport Code Data Schema:\n",
      "root\n",
      " |-- ident: string (nullable = true)\n",
      " |-- type: string (nullable = true)\n",
      " |-- name: string (nullable = true)\n",
      " |-- elevation_ft: integer (nullable = true)\n",
      " |-- continent: string (nullable = true)\n",
      " |-- iso_country: string (nullable = true)\n",
      " |-- iso_region: string (nullable = true)\n",
      " |-- municipality: string (nullable = true)\n",
      " |-- gps_code: string (nullable = true)\n",
      " |-- iata_code: string (nullable = true)\n",
      " |-- local_code: string (nullable = true)\n",
      " |-- coordinates: string (nullable = true)\n",
      "\n"
     ]
    }
   ],
   "source": [
    "print(\"Airport Code Data Schema:\")\n",
    "df_arptcodes.printSchema()"
   ]
  },
  {
   "cell_type": "code",
   "execution_count": 19,
   "metadata": {
    "editable": true
   },
   "outputs": [
    {
     "name": "stdout",
     "output_type": "stream",
     "text": [
      "Airport Code Data Schema Record Count: 55075\n"
     ]
    }
   ],
   "source": [
    "print(\"Airport Code Data Schema Record Count: {}\".format(df_arptcodes.count()))"
   ]
  },
  {
   "cell_type": "markdown",
   "metadata": {
    "editable": true
   },
   "source": [
    "### Step 2: Explore and Assess the Data\n",
    "#### Explore the Data \n",
    "Identify data quality issues, like missing values, duplicate data, etc.\n",
    "\n",
    "The following data quality issues have been identified:\n",
    "- Some of the columns in the source data are not very descriptive and/or valid for writing Parquet files\n",
    "- Some columns have data stored as double where float would be adaquate\n",
    "- Some columns have a date in SAS format where a regular date would be more useful\n",
    "- In the US Demographics dataset, there are some null values in numerical fields (i.e. Male Population, Female Population, etc...)\n",
    "- In the Global Temperature dataset, there are some null values\n",
    "- The coordinates field in the Airport Codes dataset was had an error in which longitude came before latitude (confirmed with Google Maps)\n",
    "- Null values in Airport Codes dataset for elevation, not touching as converting to zero can be erroneuos and preserving the remaining data for use\n",
    "- Null values in Airport Codes dataset for municipality, gps_code, iata_code, local_code.  Not converting because there is other data still available to be used and the nulls speak for themselves\n",
    "\n",
    "#### Cleaning Steps\n",
    "Document steps necessary to clean the data\n",
    "\n",
    "I94 Immigration Data cleaning steps includes:\n",
    "- Changing column names to be more descriptive\n",
    "- Correcting the data types in the columns\n",
    "- Changing SAS date to YYYY-MM-DD format\n",
    "- Removing duplicate rows\n",
    "\n",
    "US Demographics Data cleaning steps include:\n",
    "- Change column names to be more discriptive and transform to allow writing to Parquet\n",
    "- Changing null values in numerical fields to 0\n",
    "- Remove duplicate rows\n",
    "\n",
    "Global Temperature Data cleaning steps include:\n",
    "- Change column names to be easier to use\n",
    "- Adjust the data type for temperature average and temperature average uncertainty to be float\n",
    "- Remove rows without temperature average\n",
    "- Remove dublicate rows\n",
    "\n",
    "Airport Code Data cleaning steps include:\n",
    "- Split latitude and longitude from coordinates field.  Note, the coordinates field had latitude and longitude backwards; it would be easy to generate a corrected coordinates filed, however, it is best to keep values in their own field for better usability and the decision was made to split the values into their own field."
   ]
  },
  {
   "cell_type": "markdown",
   "metadata": {
    "editable": true
   },
   "source": [
    "##### I94 Data Cleaning and Display"
   ]
  },
  {
   "cell_type": "code",
   "execution_count": 20,
   "metadata": {
    "editable": true
   },
   "outputs": [],
   "source": [
    "# Performing cleaning tasks here\n",
    "\n",
    "# Clean I94 Immigration data\n",
    "df_i94 = clean_i94(df_i94)"
   ]
  },
  {
   "cell_type": "code",
   "execution_count": 21,
   "metadata": {
    "editable": true
   },
   "outputs": [
    {
     "name": "stdout",
     "output_type": "stream",
     "text": [
      "I94 Immigration Data Clean:\n",
      "+------+-------+--------+---------+------------------+----------------+----------+----------+---------+-------------+---------+------------+---------+-------------+--------+--------+--------+----------+----------+-------+------------+----------+----------+---------+------------+--------------+-------------+---------------+\n",
      "|gender| cic_id|i94_year|i94_month|birth_country_code|res_country_code|admit_port|trans_mode|arr_state|immigrant_age|visa_code|summary_stat|visa_post|us_occupation|arr_flag|dep_flag|upd_flag|match_flag|birth_year|ins_num|airline_code| admit_num|flight_num|visa_type|arrival_date|departure_date|file_add_date|addmission_date|\n",
      "+------+-------+--------+---------+------------------+----------------+----------+----------+---------+-------------+---------+------------+---------+-------------+--------+--------+--------+----------+----------+-------+------------+----------+----------+---------+------------+--------------+-------------+---------------+\n",
      "|     M| 889987|    2016|        8|               111|             111|       LOS|         1|     null|           54|        2|           1|     null|         null|       G|       G|    null|         M|      1962| 178201|          NZ|2147483647|         1|       WT|        null|          null|   2016-08-05|           null|\n",
      "|  null|5232802|    2016|        7|               148|             112|       XXX|      null|     null|           12|        2|           1|     null|         null|       O|    null|    null|         M|      2004|   null|        null|2147483647|      null|       WT|        null|          null|   2016-07-29|           null|\n",
      "|  null|6819743|    2016|        7|               148|             112|       XXX|      null|     null|           26|        2|           1|     null|         null|       I|    null|    null|         M|      1990|   null|        null|2147483647|      null|       B2|        null|          null|   2016-07-29|           null|\n",
      "|     M|4726000|    2016|        7|               117|             117|       NYC|         1|     null|           31|        2|           1|     null|         null|       G|       G|    null|         M|      1985| 178201|          IG|2141554385|      3932|       WT|        null|          null|   2016-07-24|           null|\n",
      "|     F| 874132|    2016|        8|               129|             129|       MIA|         1|     null|           34|        2|           1|     null|         null|       T|       O|    null|         M|      1982| 160144|          AA|2147483647|      1124|       WT|        null|          null|   2016-08-07|           null|\n",
      "|     F|4747968|    2016|        7|               129|             129|       MIA|         1|     null|           51|        2|           1|     null|         null|       T|       R|    null|         M|      1965|   9397|          BA|2125920685|       207|       WT|        null|          null|   2016-07-24|           null|\n",
      "|     M|7223010|    2016|        7|               129|             129|       MIA|         1|     null|           29|        2|           1|     null|         null|       T|       O|    null|         M|      1987| 182765|          AA|2147483647|       914|       WT|        null|          null|   2016-08-20|           null|\n",
      "|     F|5130717|    2016|       11|               135|             135|       NYC|         1|     null|           22|        3|           1|     null|         null|       G|       O|    null|         M|      1994|   null|          AA|2147483647|     00141|       F1|        null|          null|   2016-11-28|           null|\n",
      "|  null|5515266|    2016|        7|               157|             157|       XXX|      null|     null|           30|        2|           1|     null|         null|       O|    null|    null|         M|      1986|   null|        null|2147483647|      null|       B2|        null|          null|   2016-08-10|           null|\n",
      "|  null|5085952|    2016|        7|               745|             158|       XXX|      null|     null|           13|        2|           1|     null|         null|       N|       O|    null|         M|      2003|   null|        null|2147483647|      null|       B2|        null|          null|   2016-08-26|           null|\n",
      "+------+-------+--------+---------+------------------+----------------+----------+----------+---------+-------------+---------+------------+---------+-------------+--------+--------+--------+----------+----------+-------+------------+----------+----------+---------+------------+--------------+-------------+---------------+\n",
      "only showing top 10 rows\n",
      "\n"
     ]
    }
   ],
   "source": [
    "# Show cleaned I94 Data\n",
    "print(\"I94 Immigration Data Clean:\")\n",
    "df_i94.show(10)"
   ]
  },
  {
   "cell_type": "code",
   "execution_count": 22,
   "metadata": {
    "editable": true
   },
   "outputs": [
    {
     "name": "stdout",
     "output_type": "stream",
     "text": [
      "I94 Immigration Data Schema Clean:\n",
      "root\n",
      " |-- gender: string (nullable = true)\n",
      " |-- cic_id: integer (nullable = true)\n",
      " |-- i94_year: integer (nullable = true)\n",
      " |-- i94_month: integer (nullable = true)\n",
      " |-- birth_country_code: integer (nullable = true)\n",
      " |-- res_country_code: integer (nullable = true)\n",
      " |-- admit_port: string (nullable = true)\n",
      " |-- trans_mode: integer (nullable = true)\n",
      " |-- arr_state: string (nullable = true)\n",
      " |-- immigrant_age: integer (nullable = true)\n",
      " |-- visa_code: integer (nullable = true)\n",
      " |-- summary_stat: integer (nullable = true)\n",
      " |-- visa_post: integer (nullable = true)\n",
      " |-- us_occupation: string (nullable = true)\n",
      " |-- arr_flag: string (nullable = true)\n",
      " |-- dep_flag: string (nullable = true)\n",
      " |-- upd_flag: string (nullable = true)\n",
      " |-- match_flag: string (nullable = true)\n",
      " |-- birth_year: integer (nullable = true)\n",
      " |-- ins_num: string (nullable = true)\n",
      " |-- airline_code: string (nullable = true)\n",
      " |-- admit_num: integer (nullable = true)\n",
      " |-- flight_num: string (nullable = true)\n",
      " |-- visa_type: string (nullable = true)\n",
      " |-- arrival_date: date (nullable = true)\n",
      " |-- departure_date: date (nullable = true)\n",
      " |-- file_add_date: date (nullable = true)\n",
      " |-- addmission_date: date (nullable = true)\n",
      "\n"
     ]
    }
   ],
   "source": [
    "# Show cleaned I94 Data schema\n",
    "print(\"I94 Immigration Data Schema Clean:\")\n",
    "df_i94.printSchema()"
   ]
  },
  {
   "cell_type": "code",
   "execution_count": 23,
   "metadata": {
    "editable": true
   },
   "outputs": [
    {
     "name": "stdout",
     "output_type": "stream",
     "text": [
      "I94 Immigration Data Record Count Clean: 40790529\n"
     ]
    }
   ],
   "source": [
    "print(\"I94 Immigration Data Record Count Clean: {}\".format(df_i94.count()))"
   ]
  },
  {
   "cell_type": "markdown",
   "metadata": {
    "editable": true
   },
   "source": [
    "##### US Demographics Data Cleaning and Display"
   ]
  },
  {
   "cell_type": "code",
   "execution_count": 24,
   "metadata": {
    "editable": true
   },
   "outputs": [],
   "source": [
    "df_demog = clean_demog(df_demog)"
   ]
  },
  {
   "cell_type": "code",
   "execution_count": 25,
   "metadata": {
    "editable": true
   },
   "outputs": [
    {
     "name": "stdout",
     "output_type": "stream",
     "text": [
      "US Cities Demographics Data Clean:\n"
     ]
    },
    {
     "data": {
      "text/html": [
       "<div>\n",
       "<style scoped>\n",
       "    .dataframe tbody tr th:only-of-type {\n",
       "        vertical-align: middle;\n",
       "    }\n",
       "\n",
       "    .dataframe tbody tr th {\n",
       "        vertical-align: top;\n",
       "    }\n",
       "\n",
       "    .dataframe thead th {\n",
       "        text-align: right;\n",
       "    }\n",
       "</style>\n",
       "<table border=\"1\" class=\"dataframe\">\n",
       "  <thead>\n",
       "    <tr style=\"text-align: right;\">\n",
       "      <th></th>\n",
       "      <th>city</th>\n",
       "      <th>state</th>\n",
       "      <th>median_age</th>\n",
       "      <th>male_population</th>\n",
       "      <th>female_population</th>\n",
       "      <th>total_population</th>\n",
       "      <th>num_of_veterans</th>\n",
       "      <th>foreign_born</th>\n",
       "      <th>avg_household_size</th>\n",
       "      <th>state_code</th>\n",
       "      <th>race</th>\n",
       "      <th>count</th>\n",
       "    </tr>\n",
       "  </thead>\n",
       "  <tbody>\n",
       "    <tr>\n",
       "      <th>0</th>\n",
       "      <td>Clarksville</td>\n",
       "      <td>Tennessee</td>\n",
       "      <td>29.7</td>\n",
       "      <td>75029</td>\n",
       "      <td>74161</td>\n",
       "      <td>149190</td>\n",
       "      <td>20803</td>\n",
       "      <td>8211</td>\n",
       "      <td>2.64</td>\n",
       "      <td>TN</td>\n",
       "      <td>American Indian and Alaska Native</td>\n",
       "      <td>2338</td>\n",
       "    </tr>\n",
       "    <tr>\n",
       "      <th>1</th>\n",
       "      <td>El Paso</td>\n",
       "      <td>Texas</td>\n",
       "      <td>33.1</td>\n",
       "      <td>332797</td>\n",
       "      <td>348339</td>\n",
       "      <td>681136</td>\n",
       "      <td>47693</td>\n",
       "      <td>159709</td>\n",
       "      <td>3.03</td>\n",
       "      <td>TX</td>\n",
       "      <td>American Indian and Alaska Native</td>\n",
       "      <td>7359</td>\n",
       "    </tr>\n",
       "    <tr>\n",
       "      <th>2</th>\n",
       "      <td>Miami Beach</td>\n",
       "      <td>Florida</td>\n",
       "      <td>42.5</td>\n",
       "      <td>48090</td>\n",
       "      <td>44221</td>\n",
       "      <td>92311</td>\n",
       "      <td>2265</td>\n",
       "      <td>49908</td>\n",
       "      <td>2.10</td>\n",
       "      <td>FL</td>\n",
       "      <td>Asian</td>\n",
       "      <td>2772</td>\n",
       "    </tr>\n",
       "    <tr>\n",
       "      <th>3</th>\n",
       "      <td>Lincoln</td>\n",
       "      <td>Nebraska</td>\n",
       "      <td>32.3</td>\n",
       "      <td>138544</td>\n",
       "      <td>138802</td>\n",
       "      <td>277346</td>\n",
       "      <td>14694</td>\n",
       "      <td>22958</td>\n",
       "      <td>2.40</td>\n",
       "      <td>NE</td>\n",
       "      <td>White</td>\n",
       "      <td>246677</td>\n",
       "    </tr>\n",
       "    <tr>\n",
       "      <th>4</th>\n",
       "      <td>Richmond</td>\n",
       "      <td>California</td>\n",
       "      <td>35.3</td>\n",
       "      <td>52615</td>\n",
       "      <td>57100</td>\n",
       "      <td>109715</td>\n",
       "      <td>3611</td>\n",
       "      <td>42215</td>\n",
       "      <td>2.87</td>\n",
       "      <td>CA</td>\n",
       "      <td>Black or African-American</td>\n",
       "      <td>27434</td>\n",
       "    </tr>\n",
       "    <tr>\n",
       "      <th>5</th>\n",
       "      <td>Dearborn</td>\n",
       "      <td>Michigan</td>\n",
       "      <td>33.5</td>\n",
       "      <td>46482</td>\n",
       "      <td>48698</td>\n",
       "      <td>95180</td>\n",
       "      <td>3163</td>\n",
       "      <td>23920</td>\n",
       "      <td>3.04</td>\n",
       "      <td>MI</td>\n",
       "      <td>Black or African-American</td>\n",
       "      <td>3699</td>\n",
       "    </tr>\n",
       "    <tr>\n",
       "      <th>6</th>\n",
       "      <td>Portland</td>\n",
       "      <td>Oregon</td>\n",
       "      <td>36.7</td>\n",
       "      <td>313516</td>\n",
       "      <td>318671</td>\n",
       "      <td>632187</td>\n",
       "      <td>29940</td>\n",
       "      <td>86041</td>\n",
       "      <td>2.43</td>\n",
       "      <td>OR</td>\n",
       "      <td>American Indian and Alaska Native</td>\n",
       "      <td>15314</td>\n",
       "    </tr>\n",
       "    <tr>\n",
       "      <th>7</th>\n",
       "      <td>Independence</td>\n",
       "      <td>Missouri</td>\n",
       "      <td>38.6</td>\n",
       "      <td>54348</td>\n",
       "      <td>62907</td>\n",
       "      <td>117255</td>\n",
       "      <td>10220</td>\n",
       "      <td>4911</td>\n",
       "      <td>2.33</td>\n",
       "      <td>MO</td>\n",
       "      <td>Asian</td>\n",
       "      <td>558</td>\n",
       "    </tr>\n",
       "    <tr>\n",
       "      <th>8</th>\n",
       "      <td>Lafayette</td>\n",
       "      <td>Louisiana</td>\n",
       "      <td>31.7</td>\n",
       "      <td>64018</td>\n",
       "      <td>63643</td>\n",
       "      <td>127661</td>\n",
       "      <td>5206</td>\n",
       "      <td>5396</td>\n",
       "      <td>2.54</td>\n",
       "      <td>LA</td>\n",
       "      <td>Black or African-American</td>\n",
       "      <td>39862</td>\n",
       "    </tr>\n",
       "    <tr>\n",
       "      <th>9</th>\n",
       "      <td>Rochester</td>\n",
       "      <td>New York</td>\n",
       "      <td>31.4</td>\n",
       "      <td>100135</td>\n",
       "      <td>109673</td>\n",
       "      <td>209808</td>\n",
       "      <td>7288</td>\n",
       "      <td>17735</td>\n",
       "      <td>2.36</td>\n",
       "      <td>NY</td>\n",
       "      <td>White</td>\n",
       "      <td>105636</td>\n",
       "    </tr>\n",
       "  </tbody>\n",
       "</table>\n",
       "</div>"
      ],
      "text/plain": [
       "           city       state  median_age  male_population  female_population  \\\n",
       "0   Clarksville   Tennessee        29.7            75029              74161   \n",
       "1       El Paso       Texas        33.1           332797             348339   \n",
       "2   Miami Beach     Florida        42.5            48090              44221   \n",
       "3       Lincoln    Nebraska        32.3           138544             138802   \n",
       "4      Richmond  California        35.3            52615              57100   \n",
       "5      Dearborn    Michigan        33.5            46482              48698   \n",
       "6      Portland      Oregon        36.7           313516             318671   \n",
       "7  Independence    Missouri        38.6            54348              62907   \n",
       "8     Lafayette   Louisiana        31.7            64018              63643   \n",
       "9     Rochester    New York        31.4           100135             109673   \n",
       "\n",
       "   total_population  num_of_veterans  foreign_born  avg_household_size  \\\n",
       "0            149190            20803          8211                2.64   \n",
       "1            681136            47693        159709                3.03   \n",
       "2             92311             2265         49908                2.10   \n",
       "3            277346            14694         22958                2.40   \n",
       "4            109715             3611         42215                2.87   \n",
       "5             95180             3163         23920                3.04   \n",
       "6            632187            29940         86041                2.43   \n",
       "7            117255            10220          4911                2.33   \n",
       "8            127661             5206          5396                2.54   \n",
       "9            209808             7288         17735                2.36   \n",
       "\n",
       "  state_code                               race   count  \n",
       "0         TN  American Indian and Alaska Native    2338  \n",
       "1         TX  American Indian and Alaska Native    7359  \n",
       "2         FL                              Asian    2772  \n",
       "3         NE                              White  246677  \n",
       "4         CA          Black or African-American   27434  \n",
       "5         MI          Black or African-American    3699  \n",
       "6         OR  American Indian and Alaska Native   15314  \n",
       "7         MO                              Asian     558  \n",
       "8         LA          Black or African-American   39862  \n",
       "9         NY                              White  105636  "
      ]
     },
     "execution_count": 25,
     "metadata": {},
     "output_type": "execute_result"
    }
   ],
   "source": [
    "# Show sample of clean demographics data\n",
    "print(\"US Cities Demographics Data Clean:\")\n",
    "df_demog.limit(10).toPandas()"
   ]
  },
  {
   "cell_type": "code",
   "execution_count": 26,
   "metadata": {
    "editable": true
   },
   "outputs": [
    {
     "name": "stdout",
     "output_type": "stream",
     "text": [
      "US Cities Demographics Data Schema Clean:\n",
      "root\n",
      " |-- city: string (nullable = true)\n",
      " |-- state: string (nullable = true)\n",
      " |-- median_age: double (nullable = false)\n",
      " |-- male_population: integer (nullable = false)\n",
      " |-- female_population: integer (nullable = false)\n",
      " |-- total_population: integer (nullable = false)\n",
      " |-- num_of_veterans: integer (nullable = false)\n",
      " |-- foreign_born: integer (nullable = true)\n",
      " |-- avg_household_size: double (nullable = false)\n",
      " |-- state_code: string (nullable = true)\n",
      " |-- race: string (nullable = true)\n",
      " |-- count: integer (nullable = false)\n",
      "\n"
     ]
    }
   ],
   "source": [
    "# Show clean demographics data Schema\n",
    "print(\"US Cities Demographics Data Schema Clean:\")\n",
    "df_demog.printSchema()"
   ]
  },
  {
   "cell_type": "code",
   "execution_count": 27,
   "metadata": {
    "editable": true
   },
   "outputs": [
    {
     "name": "stdout",
     "output_type": "stream",
     "text": [
      "US Cities Demographics Record Count Clean: 2891\n"
     ]
    }
   ],
   "source": [
    "print(\"US Cities Demographics Record Count Clean: {}\".format(df_demog.count()))"
   ]
  },
  {
   "cell_type": "markdown",
   "metadata": {
    "editable": true
   },
   "source": [
    "##### Global Temperature Data Clean and Display"
   ]
  },
  {
   "cell_type": "code",
   "execution_count": 28,
   "metadata": {
    "editable": true
   },
   "outputs": [],
   "source": [
    "# Clean Global Temperature Data\n",
    "df_worldtemp = clean_worldtemp(df_worldtemp)"
   ]
  },
  {
   "cell_type": "code",
   "execution_count": 29,
   "metadata": {
    "editable": true
   },
   "outputs": [
    {
     "name": "stdout",
     "output_type": "stream",
     "text": [
      "Global Land Temperatures by City Clean:\n"
     ]
    },
    {
     "data": {
      "text/html": [
       "<div>\n",
       "<style scoped>\n",
       "    .dataframe tbody tr th:only-of-type {\n",
       "        vertical-align: middle;\n",
       "    }\n",
       "\n",
       "    .dataframe tbody tr th {\n",
       "        vertical-align: top;\n",
       "    }\n",
       "\n",
       "    .dataframe thead th {\n",
       "        text-align: right;\n",
       "    }\n",
       "</style>\n",
       "<table border=\"1\" class=\"dataframe\">\n",
       "  <thead>\n",
       "    <tr style=\"text-align: right;\">\n",
       "      <th></th>\n",
       "      <th>city</th>\n",
       "      <th>country</th>\n",
       "      <th>latitude</th>\n",
       "      <th>longitude</th>\n",
       "      <th>date_stamp</th>\n",
       "      <th>avg_temp</th>\n",
       "      <th>avg_temp_uncert</th>\n",
       "    </tr>\n",
       "  </thead>\n",
       "  <tbody>\n",
       "    <tr>\n",
       "      <th>0</th>\n",
       "      <td>Arvada</td>\n",
       "      <td>United States</td>\n",
       "      <td>39.38N</td>\n",
       "      <td>106.13W</td>\n",
       "      <td>2013-09-01</td>\n",
       "      <td>12.288000</td>\n",
       "      <td>0.911</td>\n",
       "    </tr>\n",
       "    <tr>\n",
       "      <th>1</th>\n",
       "      <td>Westminster</td>\n",
       "      <td>United States</td>\n",
       "      <td>39.38N</td>\n",
       "      <td>104.05W</td>\n",
       "      <td>2013-09-01</td>\n",
       "      <td>19.372999</td>\n",
       "      <td>1.054</td>\n",
       "    </tr>\n",
       "    <tr>\n",
       "      <th>2</th>\n",
       "      <td>Morelia</td>\n",
       "      <td>Mexico</td>\n",
       "      <td>20.09N</td>\n",
       "      <td>100.66W</td>\n",
       "      <td>2013-09-01</td>\n",
       "      <td>19.716000</td>\n",
       "      <td>1.208</td>\n",
       "    </tr>\n",
       "    <tr>\n",
       "      <th>3</th>\n",
       "      <td>Columbus</td>\n",
       "      <td>United States</td>\n",
       "      <td>39.38N</td>\n",
       "      <td>83.24W</td>\n",
       "      <td>2013-09-01</td>\n",
       "      <td>19.681000</td>\n",
       "      <td>1.090</td>\n",
       "    </tr>\n",
       "    <tr>\n",
       "      <th>4</th>\n",
       "      <td>Norfolk</td>\n",
       "      <td>United States</td>\n",
       "      <td>36.17N</td>\n",
       "      <td>75.58W</td>\n",
       "      <td>2013-09-01</td>\n",
       "      <td>22.937000</td>\n",
       "      <td>1.053</td>\n",
       "    </tr>\n",
       "    <tr>\n",
       "      <th>5</th>\n",
       "      <td>Yonkers</td>\n",
       "      <td>United States</td>\n",
       "      <td>40.99N</td>\n",
       "      <td>74.56W</td>\n",
       "      <td>2013-09-01</td>\n",
       "      <td>17.408001</td>\n",
       "      <td>1.048</td>\n",
       "    </tr>\n",
       "    <tr>\n",
       "      <th>6</th>\n",
       "      <td>Nueva San Salvador</td>\n",
       "      <td>El Salvador</td>\n",
       "      <td>13.66N</td>\n",
       "      <td>90.00W</td>\n",
       "      <td>2013-09-01</td>\n",
       "      <td>27.162001</td>\n",
       "      <td>1.286</td>\n",
       "    </tr>\n",
       "    <tr>\n",
       "      <th>7</th>\n",
       "      <td>San Juan Sacatepéquez</td>\n",
       "      <td>Guatemala</td>\n",
       "      <td>15.27N</td>\n",
       "      <td>90.83W</td>\n",
       "      <td>2013-09-01</td>\n",
       "      <td>21.815001</td>\n",
       "      <td>1.233</td>\n",
       "    </tr>\n",
       "    <tr>\n",
       "      <th>8</th>\n",
       "      <td>Apodaca</td>\n",
       "      <td>Mexico</td>\n",
       "      <td>26.52N</td>\n",
       "      <td>100.30W</td>\n",
       "      <td>2013-09-01</td>\n",
       "      <td>27.934000</td>\n",
       "      <td>1.252</td>\n",
       "    </tr>\n",
       "    <tr>\n",
       "      <th>9</th>\n",
       "      <td>Guaymas</td>\n",
       "      <td>Mexico</td>\n",
       "      <td>28.13N</td>\n",
       "      <td>110.00W</td>\n",
       "      <td>2013-09-01</td>\n",
       "      <td>30.885000</td>\n",
       "      <td>0.965</td>\n",
       "    </tr>\n",
       "  </tbody>\n",
       "</table>\n",
       "</div>"
      ],
      "text/plain": [
       "                    city        country latitude longitude  date_stamp  \\\n",
       "0                 Arvada  United States   39.38N   106.13W  2013-09-01   \n",
       "1            Westminster  United States   39.38N   104.05W  2013-09-01   \n",
       "2                Morelia         Mexico   20.09N   100.66W  2013-09-01   \n",
       "3               Columbus  United States   39.38N    83.24W  2013-09-01   \n",
       "4                Norfolk  United States   36.17N    75.58W  2013-09-01   \n",
       "5                Yonkers  United States   40.99N    74.56W  2013-09-01   \n",
       "6     Nueva San Salvador    El Salvador   13.66N    90.00W  2013-09-01   \n",
       "7  San Juan Sacatepéquez      Guatemala   15.27N    90.83W  2013-09-01   \n",
       "8                Apodaca         Mexico   26.52N   100.30W  2013-09-01   \n",
       "9                Guaymas         Mexico   28.13N   110.00W  2013-09-01   \n",
       "\n",
       "    avg_temp  avg_temp_uncert  \n",
       "0  12.288000            0.911  \n",
       "1  19.372999            1.054  \n",
       "2  19.716000            1.208  \n",
       "3  19.681000            1.090  \n",
       "4  22.937000            1.053  \n",
       "5  17.408001            1.048  \n",
       "6  27.162001            1.286  \n",
       "7  21.815001            1.233  \n",
       "8  27.934000            1.252  \n",
       "9  30.885000            0.965  "
      ]
     },
     "execution_count": 29,
     "metadata": {},
     "output_type": "execute_result"
    }
   ],
   "source": [
    "print(\"Global Land Temperatures by City Clean:\")\n",
    "df_worldtemp.sort(\"dt\", ascending=False).limit(10).toPandas()"
   ]
  },
  {
   "cell_type": "code",
   "execution_count": 30,
   "metadata": {
    "editable": true
   },
   "outputs": [
    {
     "name": "stdout",
     "output_type": "stream",
     "text": [
      "Global Land Temperatures by City Schema Clean:\n",
      "root\n",
      " |-- city: string (nullable = true)\n",
      " |-- country: string (nullable = true)\n",
      " |-- latitude: string (nullable = true)\n",
      " |-- longitude: string (nullable = true)\n",
      " |-- date_stamp: date (nullable = true)\n",
      " |-- avg_temp: float (nullable = true)\n",
      " |-- avg_temp_uncert: float (nullable = true)\n",
      "\n"
     ]
    }
   ],
   "source": [
    "print(\"Global Land Temperatures by City Schema Clean:\")\n",
    "df_worldtemp.printSchema()"
   ]
  },
  {
   "cell_type": "code",
   "execution_count": 31,
   "metadata": {
    "editable": true
   },
   "outputs": [
    {
     "name": "stdout",
     "output_type": "stream",
     "text": [
      "Global Land Temperatures by City Record Count Clean: 8235082\n"
     ]
    }
   ],
   "source": [
    "print(\"Global Land Temperatures by City Record Count Clean: {}\".format(df_worldtemp.count()))"
   ]
  },
  {
   "cell_type": "markdown",
   "metadata": {
    "editable": true
   },
   "source": [
    "##### Airport Code Data Clean and Display"
   ]
  },
  {
   "cell_type": "code",
   "execution_count": 32,
   "metadata": {
    "editable": true
   },
   "outputs": [],
   "source": [
    "df_arptcodes = clean_arptcodes(df_arptcodes)"
   ]
  },
  {
   "cell_type": "code",
   "execution_count": 33,
   "metadata": {
    "editable": true
   },
   "outputs": [
    {
     "name": "stdout",
     "output_type": "stream",
     "text": [
      "Airport Code Data Clean:\n"
     ]
    },
    {
     "data": {
      "text/html": [
       "<div>\n",
       "<style scoped>\n",
       "    .dataframe tbody tr th:only-of-type {\n",
       "        vertical-align: middle;\n",
       "    }\n",
       "\n",
       "    .dataframe tbody tr th {\n",
       "        vertical-align: top;\n",
       "    }\n",
       "\n",
       "    .dataframe thead th {\n",
       "        text-align: right;\n",
       "    }\n",
       "</style>\n",
       "<table border=\"1\" class=\"dataframe\">\n",
       "  <thead>\n",
       "    <tr style=\"text-align: right;\">\n",
       "      <th></th>\n",
       "      <th>airport_id</th>\n",
       "      <th>airport_type</th>\n",
       "      <th>airport_name</th>\n",
       "      <th>elevation_ft</th>\n",
       "      <th>continent_abbrv</th>\n",
       "      <th>country_code</th>\n",
       "      <th>region_code</th>\n",
       "      <th>municipality</th>\n",
       "      <th>gps_code</th>\n",
       "      <th>iata_code</th>\n",
       "      <th>local_code</th>\n",
       "      <th>latitude</th>\n",
       "      <th>longitude</th>\n",
       "    </tr>\n",
       "  </thead>\n",
       "  <tbody>\n",
       "    <tr>\n",
       "      <th>0</th>\n",
       "      <td>00A</td>\n",
       "      <td>heliport</td>\n",
       "      <td>Total Rf Heliport</td>\n",
       "      <td>11</td>\n",
       "      <td>NA</td>\n",
       "      <td>US</td>\n",
       "      <td>US-PA</td>\n",
       "      <td>Bensalem</td>\n",
       "      <td>00A</td>\n",
       "      <td>None</td>\n",
       "      <td>00A</td>\n",
       "      <td>40.070801</td>\n",
       "      <td>-74.933601</td>\n",
       "    </tr>\n",
       "    <tr>\n",
       "      <th>1</th>\n",
       "      <td>00AA</td>\n",
       "      <td>small_airport</td>\n",
       "      <td>Aero B Ranch Airport</td>\n",
       "      <td>3435</td>\n",
       "      <td>NA</td>\n",
       "      <td>US</td>\n",
       "      <td>US-KS</td>\n",
       "      <td>Leoti</td>\n",
       "      <td>00AA</td>\n",
       "      <td>None</td>\n",
       "      <td>00AA</td>\n",
       "      <td>38.704022</td>\n",
       "      <td>-101.473911</td>\n",
       "    </tr>\n",
       "    <tr>\n",
       "      <th>2</th>\n",
       "      <td>00AK</td>\n",
       "      <td>small_airport</td>\n",
       "      <td>Lowell Field</td>\n",
       "      <td>450</td>\n",
       "      <td>NA</td>\n",
       "      <td>US</td>\n",
       "      <td>US-AK</td>\n",
       "      <td>Anchor Point</td>\n",
       "      <td>00AK</td>\n",
       "      <td>None</td>\n",
       "      <td>00AK</td>\n",
       "      <td>59.949200</td>\n",
       "      <td>-151.695999</td>\n",
       "    </tr>\n",
       "    <tr>\n",
       "      <th>3</th>\n",
       "      <td>00AL</td>\n",
       "      <td>small_airport</td>\n",
       "      <td>Epps Airpark</td>\n",
       "      <td>820</td>\n",
       "      <td>NA</td>\n",
       "      <td>US</td>\n",
       "      <td>US-AL</td>\n",
       "      <td>Harvest</td>\n",
       "      <td>00AL</td>\n",
       "      <td>None</td>\n",
       "      <td>00AL</td>\n",
       "      <td>34.864799</td>\n",
       "      <td>-86.770302</td>\n",
       "    </tr>\n",
       "    <tr>\n",
       "      <th>4</th>\n",
       "      <td>00AR</td>\n",
       "      <td>closed</td>\n",
       "      <td>Newport Hospital &amp; Clinic Heliport</td>\n",
       "      <td>237</td>\n",
       "      <td>NA</td>\n",
       "      <td>US</td>\n",
       "      <td>US-AR</td>\n",
       "      <td>Newport</td>\n",
       "      <td>None</td>\n",
       "      <td>None</td>\n",
       "      <td>None</td>\n",
       "      <td>35.608700</td>\n",
       "      <td>-91.254898</td>\n",
       "    </tr>\n",
       "    <tr>\n",
       "      <th>5</th>\n",
       "      <td>00AS</td>\n",
       "      <td>small_airport</td>\n",
       "      <td>Fulton Airport</td>\n",
       "      <td>1100</td>\n",
       "      <td>NA</td>\n",
       "      <td>US</td>\n",
       "      <td>US-OK</td>\n",
       "      <td>Alex</td>\n",
       "      <td>00AS</td>\n",
       "      <td>None</td>\n",
       "      <td>00AS</td>\n",
       "      <td>34.942803</td>\n",
       "      <td>-97.818019</td>\n",
       "    </tr>\n",
       "    <tr>\n",
       "      <th>6</th>\n",
       "      <td>00AZ</td>\n",
       "      <td>small_airport</td>\n",
       "      <td>Cordes Airport</td>\n",
       "      <td>3810</td>\n",
       "      <td>NA</td>\n",
       "      <td>US</td>\n",
       "      <td>US-AZ</td>\n",
       "      <td>Cordes</td>\n",
       "      <td>00AZ</td>\n",
       "      <td>None</td>\n",
       "      <td>00AZ</td>\n",
       "      <td>34.305599</td>\n",
       "      <td>-112.165001</td>\n",
       "    </tr>\n",
       "    <tr>\n",
       "      <th>7</th>\n",
       "      <td>00CA</td>\n",
       "      <td>small_airport</td>\n",
       "      <td>Goldstone /Gts/ Airport</td>\n",
       "      <td>3038</td>\n",
       "      <td>NA</td>\n",
       "      <td>US</td>\n",
       "      <td>US-CA</td>\n",
       "      <td>Barstow</td>\n",
       "      <td>00CA</td>\n",
       "      <td>None</td>\n",
       "      <td>00CA</td>\n",
       "      <td>35.350498</td>\n",
       "      <td>-116.888000</td>\n",
       "    </tr>\n",
       "    <tr>\n",
       "      <th>8</th>\n",
       "      <td>00CL</td>\n",
       "      <td>small_airport</td>\n",
       "      <td>Williams Ag Airport</td>\n",
       "      <td>87</td>\n",
       "      <td>NA</td>\n",
       "      <td>US</td>\n",
       "      <td>US-CA</td>\n",
       "      <td>Biggs</td>\n",
       "      <td>00CL</td>\n",
       "      <td>None</td>\n",
       "      <td>00CL</td>\n",
       "      <td>39.427188</td>\n",
       "      <td>-121.763427</td>\n",
       "    </tr>\n",
       "    <tr>\n",
       "      <th>9</th>\n",
       "      <td>00CN</td>\n",
       "      <td>heliport</td>\n",
       "      <td>Kitchen Creek Helibase Heliport</td>\n",
       "      <td>3350</td>\n",
       "      <td>NA</td>\n",
       "      <td>US</td>\n",
       "      <td>US-CA</td>\n",
       "      <td>Pine Valley</td>\n",
       "      <td>00CN</td>\n",
       "      <td>None</td>\n",
       "      <td>00CN</td>\n",
       "      <td>32.727374</td>\n",
       "      <td>-116.459742</td>\n",
       "    </tr>\n",
       "  </tbody>\n",
       "</table>\n",
       "</div>"
      ],
      "text/plain": [
       "  airport_id   airport_type                        airport_name  elevation_ft  \\\n",
       "0        00A       heliport                   Total Rf Heliport            11   \n",
       "1       00AA  small_airport                Aero B Ranch Airport          3435   \n",
       "2       00AK  small_airport                        Lowell Field           450   \n",
       "3       00AL  small_airport                        Epps Airpark           820   \n",
       "4       00AR         closed  Newport Hospital & Clinic Heliport           237   \n",
       "5       00AS  small_airport                      Fulton Airport          1100   \n",
       "6       00AZ  small_airport                      Cordes Airport          3810   \n",
       "7       00CA  small_airport             Goldstone /Gts/ Airport          3038   \n",
       "8       00CL  small_airport                 Williams Ag Airport            87   \n",
       "9       00CN       heliport     Kitchen Creek Helibase Heliport          3350   \n",
       "\n",
       "  continent_abbrv country_code region_code  municipality gps_code iata_code  \\\n",
       "0              NA           US       US-PA      Bensalem      00A      None   \n",
       "1              NA           US       US-KS         Leoti     00AA      None   \n",
       "2              NA           US       US-AK  Anchor Point     00AK      None   \n",
       "3              NA           US       US-AL       Harvest     00AL      None   \n",
       "4              NA           US       US-AR       Newport     None      None   \n",
       "5              NA           US       US-OK          Alex     00AS      None   \n",
       "6              NA           US       US-AZ        Cordes     00AZ      None   \n",
       "7              NA           US       US-CA       Barstow     00CA      None   \n",
       "8              NA           US       US-CA         Biggs     00CL      None   \n",
       "9              NA           US       US-CA   Pine Valley     00CN      None   \n",
       "\n",
       "  local_code   latitude   longitude  \n",
       "0        00A  40.070801  -74.933601  \n",
       "1       00AA  38.704022 -101.473911  \n",
       "2       00AK  59.949200 -151.695999  \n",
       "3       00AL  34.864799  -86.770302  \n",
       "4       None  35.608700  -91.254898  \n",
       "5       00AS  34.942803  -97.818019  \n",
       "6       00AZ  34.305599 -112.165001  \n",
       "7       00CA  35.350498 -116.888000  \n",
       "8       00CL  39.427188 -121.763427  \n",
       "9       00CN  32.727374 -116.459742  "
      ]
     },
     "execution_count": 33,
     "metadata": {},
     "output_type": "execute_result"
    }
   ],
   "source": [
    "print(\"Airport Code Data Clean:\")\n",
    "df_arptcodes.limit(10).toPandas()"
   ]
  },
  {
   "cell_type": "code",
   "execution_count": 34,
   "metadata": {
    "editable": true
   },
   "outputs": [
    {
     "name": "stdout",
     "output_type": "stream",
     "text": [
      "Airport Code Data Schema Clean:\n",
      "root\n",
      " |-- airport_id: string (nullable = true)\n",
      " |-- airport_type: string (nullable = true)\n",
      " |-- airport_name: string (nullable = true)\n",
      " |-- elevation_ft: integer (nullable = true)\n",
      " |-- continent_abbrv: string (nullable = true)\n",
      " |-- country_code: string (nullable = true)\n",
      " |-- region_code: string (nullable = true)\n",
      " |-- municipality: string (nullable = true)\n",
      " |-- gps_code: string (nullable = true)\n",
      " |-- iata_code: string (nullable = true)\n",
      " |-- local_code: string (nullable = true)\n",
      " |-- latitude: double (nullable = true)\n",
      " |-- longitude: double (nullable = true)\n",
      "\n"
     ]
    }
   ],
   "source": [
    "print(\"Airport Code Data Schema Clean:\")\n",
    "df_arptcodes.printSchema()"
   ]
  },
  {
   "cell_type": "code",
   "execution_count": 35,
   "metadata": {
    "editable": true
   },
   "outputs": [
    {
     "name": "stdout",
     "output_type": "stream",
     "text": [
      "Airport Code Data Schema Record Count Clean: 55075\n"
     ]
    }
   ],
   "source": [
    "print(\"Airport Code Data Schema Record Count Clean: {}\".format(df_arptcodes.count()))"
   ]
  },
  {
   "cell_type": "markdown",
   "metadata": {
    "editable": true
   },
   "source": [
    "### Step 3: Define the Data Model\n",
    "#### 3.1 Conceptual Data Model\n",
    "Map out the conceptual data model and explain why you chose that model\n",
    "\n",
    "I chose an unstructured yet flexible format.  As my target users are Data Scientists, they need to be able to combine data from any source to the data in the data lake.\n",
    "\n",
    "#### 3.2 Mapping Out Data Pipelines\n",
    "List the steps necessary to pipeline the data into the chosen data model\n",
    "\n",
    "1. Extract the data from the source\n",
    "2. Assess the data for cleaning needing to be done\n",
    "3. Clean the data by correcting column names, adjusting data types, removing duplicates and replacing invalid values\n",
    "4. Write the cleaned data to it's cooresponding destination in the Data Lake\n",
    "5. As dataframes are no longer needed, do garbage collection and free up space"
   ]
  },
  {
   "cell_type": "markdown",
   "metadata": {
    "editable": true
   },
   "source": [
    "### Step 4: Run Pipelines to Model the Data \n",
    "#### 4.1 Create the data model\n",
    "Build the data pipelines to create the data model."
   ]
  },
  {
   "cell_type": "code",
   "execution_count": 36,
   "metadata": {
    "editable": true
   },
   "outputs": [],
   "source": [
    "# Write I94 Immigration Data Fact\n",
    "\n",
    "write_i94_fact(df_i94, output_path, i94_fldr)"
   ]
  },
  {
   "cell_type": "code",
   "execution_count": 37,
   "metadata": {
    "editable": true
   },
   "outputs": [],
   "source": [
    "# Write World Temperature by City Data Dimension\n",
    "\n",
    "write_worldtemp_dim(df_worldtemp, output_path, worldtemp_fldr)"
   ]
  },
  {
   "cell_type": "code",
   "execution_count": 38,
   "metadata": {
    "editable": true
   },
   "outputs": [],
   "source": [
    "# Write US City Demographics Dimension\n",
    "\n",
    "write_demog_dim(df_demog, output_path, demog_fldr)"
   ]
  },
  {
   "cell_type": "code",
   "execution_count": 39,
   "metadata": {
    "editable": true
   },
   "outputs": [],
   "source": [
    "# Write Airport Codes Dimension\n",
    "\n",
    "write_arptcodes_dim(df_arptcodes, output_path, arptcodes_fldr)"
   ]
  },
  {
   "cell_type": "markdown",
   "metadata": {
    "editable": true
   },
   "source": [
    "#### 4.2 Data Quality Checks\n",
    "Explain the data quality checks you'll perform to ensure the pipeline ran as expected. These could include:\n",
    " * Integrity constraints on the relational database (e.g., unique key, data type, etc.)\n",
    " * Unit tests for the scripts to ensure they are doing the right thing\n",
    " * Source/Count checks to ensure completeness\n",
    " \n",
    "##### Data Quality Checks performed:\n",
    "\n",
    "- Check that data is loaded into the tables\n",
    "- Check that there are no nulls in Primary Key fields\n",
    " \n",
    "Run Quality Checks"
   ]
  },
  {
   "cell_type": "code",
   "execution_count": 4,
   "metadata": {
    "editable": true
   },
   "outputs": [],
   "source": [
    "# Perform quality checks here\n",
    "\n",
    "# Load Data from data lake\n",
    "df_i94 = read_lake(spark, output_path, i94_fldr)\n",
    "df_worldtemp = read_lake(spark, output_path, worldtemp_fldr)\n",
    "df_demog = read_lake(spark, output_path, demog_fldr)\n",
    "df_arptcodes = read_lake(spark, output_path, arptcodes_fldr)"
   ]
  },
  {
   "cell_type": "code",
   "execution_count": 41,
   "metadata": {
    "editable": true
   },
   "outputs": [
    {
     "name": "stdout",
     "output_type": "stream",
     "text": [
      "Check Passed in table 40790529 with record count: immi_fact\n",
      "Primary Key Null check passed for Table: immi_fact\n"
     ]
    },
    {
     "data": {
      "text/plain": [
       "True"
      ]
     },
     "execution_count": 41,
     "metadata": {},
     "output_type": "execute_result"
    }
   ],
   "source": [
    "# I94 Quality Checks\n",
    "has_records(df_i94, i94_fldr)\n",
    "check_prikey_null(df_i94, i94_fldr, \"cic_id\")"
   ]
  },
  {
   "cell_type": "code",
   "execution_count": 42,
   "metadata": {
    "editable": true
   },
   "outputs": [
    {
     "name": "stdout",
     "output_type": "stream",
     "text": [
      "Check Passed in table 8235082 with record count: worldtemp_dim\n",
      "Primary Key Null check passed for Table: worldtemp_dim\n"
     ]
    },
    {
     "data": {
      "text/plain": [
       "True"
      ]
     },
     "execution_count": 42,
     "metadata": {},
     "output_type": "execute_result"
    }
   ],
   "source": [
    "# World Temp Quality Checks\n",
    "has_records(df_worldtemp, worldtemp_fldr)\n",
    "check_prikey_null(df_worldtemp, worldtemp_fldr, \"date_stamp\")"
   ]
  },
  {
   "cell_type": "code",
   "execution_count": 43,
   "metadata": {
    "editable": true
   },
   "outputs": [
    {
     "name": "stdout",
     "output_type": "stream",
     "text": [
      "Check Passed in table 2891 with record count: demog_dim\n",
      "Primary Key Null check passed for Table: demog_dim\n"
     ]
    },
    {
     "data": {
      "text/plain": [
       "True"
      ]
     },
     "execution_count": 43,
     "metadata": {},
     "output_type": "execute_result"
    }
   ],
   "source": [
    "# US Demographics Quality Checks\n",
    "columns = ['city', 'state']\n",
    "has_records(df_demog, demog_fldr)\n",
    "check_prikey_null(df_demog, demog_fldr, columns)"
   ]
  },
  {
   "cell_type": "code",
   "execution_count": 44,
   "metadata": {
    "editable": true
   },
   "outputs": [
    {
     "name": "stdout",
     "output_type": "stream",
     "text": [
      "Check Passed in table 55075 with record count: arptcodes_dim\n",
      "Primary Key Null check passed for Table: arptcodes_dim\n"
     ]
    },
    {
     "data": {
      "text/plain": [
       "True"
      ]
     },
     "execution_count": 44,
     "metadata": {},
     "output_type": "execute_result"
    }
   ],
   "source": [
    "# Airport Codes Quality Checks\n",
    "has_records(df_arptcodes, arptcodes_fldr)\n",
    "check_prikey_null(df_arptcodes, arptcodes_fldr, \"airport_id\")"
   ]
  },
  {
   "cell_type": "markdown",
   "metadata": {
    "editable": true
   },
   "source": [
    "##### Analytics Sample:"
   ]
  },
  {
   "cell_type": "code",
   "execution_count": 5,
   "metadata": {
    "editable": true
   },
   "outputs": [],
   "source": [
    "# Create a simple table that combines Immigration and Demographics data\n",
    "# Using a slice of data on a small selection of states for the sample\n",
    "\n",
    "state_cond = \"\"\"state_code = 'AK' OR\n",
    "                state_code = 'MA' OR\n",
    "                state_code = 'PA' OR\n",
    "                state_code = 'AL' OR\n",
    "                state_code = 'NY'\"\"\"\n",
    "\n",
    "df_immi_foreign = df_i94.join(df_demog, df_i94.arr_state == df_demog.state_code, 'inner') \\\n",
    "                        .where(state_cond) \\\n",
    "                        .select(df_i94.cic_id, \\\n",
    "                                df_demog.state_code, \\\n",
    "                                df_demog.state, \\\n",
    "                                df_demog.foreign_born) \\\n",
    "                        .sort(\"state\") \\\n",
    "                        .distinct()"
   ]
  },
  {
   "cell_type": "code",
   "execution_count": 6,
   "metadata": {
    "editable": true
   },
   "outputs": [],
   "source": [
    "df_immi_foreign.createOrReplaceTempView(\"analytics_sample\")"
   ]
  },
  {
   "cell_type": "code",
   "execution_count": 7,
   "metadata": {
    "editable": true
   },
   "outputs": [
    {
     "data": {
      "text/html": [
       "<div>\n",
       "<style scoped>\n",
       "    .dataframe tbody tr th:only-of-type {\n",
       "        vertical-align: middle;\n",
       "    }\n",
       "\n",
       "    .dataframe tbody tr th {\n",
       "        vertical-align: top;\n",
       "    }\n",
       "\n",
       "    .dataframe thead th {\n",
       "        text-align: right;\n",
       "    }\n",
       "</style>\n",
       "<table border=\"1\" class=\"dataframe\">\n",
       "  <thead>\n",
       "    <tr style=\"text-align: right;\">\n",
       "      <th></th>\n",
       "      <th>state</th>\n",
       "      <th>new_immigrant_count</th>\n",
       "      <th>foreign_born_by_state</th>\n",
       "    </tr>\n",
       "  </thead>\n",
       "  <tbody>\n",
       "    <tr>\n",
       "      <th>0</th>\n",
       "      <td>Alabama</td>\n",
       "      <td>701974</td>\n",
       "      <td>5230107428</td>\n",
       "    </tr>\n",
       "    <tr>\n",
       "      <th>1</th>\n",
       "      <td>Alaska</td>\n",
       "      <td>79189</td>\n",
       "      <td>2633667762</td>\n",
       "    </tr>\n",
       "    <tr>\n",
       "      <th>2</th>\n",
       "      <td>Massachusetts</td>\n",
       "      <td>13814332</td>\n",
       "      <td>513692842586</td>\n",
       "    </tr>\n",
       "    <tr>\n",
       "      <th>3</th>\n",
       "      <td>New York</td>\n",
       "      <td>48804954</td>\n",
       "      <td>15254125913934</td>\n",
       "    </tr>\n",
       "    <tr>\n",
       "      <th>4</th>\n",
       "      <td>Pennsylvania</td>\n",
       "      <td>3001439</td>\n",
       "      <td>124714078220</td>\n",
       "    </tr>\n",
       "  </tbody>\n",
       "</table>\n",
       "</div>"
      ],
      "text/plain": [
       "           state  new_immigrant_count  foreign_born_by_state\n",
       "0        Alabama               701974             5230107428\n",
       "1         Alaska                79189             2633667762\n",
       "2  Massachusetts             13814332           513692842586\n",
       "3       New York             48804954         15254125913934\n",
       "4   Pennsylvania              3001439           124714078220"
      ]
     },
     "execution_count": 7,
     "metadata": {},
     "output_type": "execute_result"
    }
   ],
   "source": [
    "# The following query gets count of New Immigrants and Foreign born by state\n",
    "\n",
    "sql_qry = \"\"\"SELECT state,\n",
    "                    COUNT(cic_id) AS new_immigrant_count,\n",
    "                    SUM(foreign_born) AS foreign_born_by_state\n",
    "             FROM analytics_sample\n",
    "             GROUP BY state\n",
    "             ORDER BY state\"\"\"\n",
    "\n",
    "df_result = spark.sql(sql_qry)\n",
    "\n",
    "df_result.toPandas()"
   ]
  },
  {
   "cell_type": "code",
   "execution_count": 8,
   "metadata": {
    "editable": true
   },
   "outputs": [],
   "source": [
    "spark.catalog.dropTempView(\"analytics_sample\")"
   ]
  },
  {
   "cell_type": "markdown",
   "metadata": {
    "editable": true
   },
   "source": [
    "#### 4.3 Data dictionary \n",
    "Create a data dictionary for your data model. For each field, provide a brief description of what the data is and where it came from. You can include the data dictionary in the notebook or in a separate file.\n",
    "\n",
    "##### Source Data Dictionary\n",
    "\n",
    "I94 Immigration Data:\n",
    "\n",
    "| Field    | Type   | Description                                                                                      |\n",
    "|----------|--------|--------------------------------------------------------------------------------------------------|\n",
    "| cicid    | double | Record ID                                                                                        |\n",
    "| i94yr    | double | 4 Digit Year                                                                                     |\n",
    "| i94mon   | double | Numeric Month                                                                                    |\n",
    "| i94cit   | double | 3 Digit Code of Birth Country                                                                      |\n",
    "| i94res   | double | 3 Digit Code for Country of Residence                                                            |\n",
    "| i94port  | string | Port of Admission Code                                                                           |\n",
    "| arrdate  | double | Arrival Date in the USA                                                                          |\n",
    "| i94mode  | double | Mode of Travel Code                                                                              |\n",
    "| i94addr  | string | State of Arrival                                                                                 |\n",
    "| depdate  | double | Departure Date from the USA                                                                      |\n",
    "| i94bir   | double | Age of Respondent in Years                                                                       |\n",
    "| i94visa  | double | Visa codes collapsed into three categories                                                       |\n",
    "| count    | double | Used for summary statistics                                                                      |\n",
    "| dtadfile | string | Character Date Field - Date added to I-94 Files - CIC does not use                               |\n",
    "| visapost | string | Department of State where where Visa was issued - CIC does not use                               |\n",
    "| occup    | string | Occupation that will be performed in U.S. - CIC does not use                                     |\n",
    "| entdepa  | string | Arrival Flag - admitted or paroled into the U.S. - CIC does not use                              |\n",
    "| entdepd  | string | Departure Flag - Departed, lost I-94 or is deceased - CIC does not use                           |\n",
    "| entdepu  | string | Update Flag - Either apprehended, overstayed, adjusted to perm residence - CIC does not use      |\n",
    "| matflag  | string | Match flag - Match of arrival and departure records                                              |\n",
    "| biryear  | double | 4 digit year of birth                                                                            |\n",
    "| dtaddto  | string | Character Date Field - Date to which admitted to U.S. (allowed to stay until) - CIC does not use |\n",
    "| gender   | string | Non-immigrant sex                                                                                |\n",
    "| insnum   | string | INS number                                                                                       |\n",
    "| airline  | string | Airline used to arrive in U.S.                                                                   |\n",
    "| admnum   | double | Admission Number                                                                                 |\n",
    "| fltno    | string | Flight number of Airline used to arrive in U.S.                                                  |\n",
    "| visatype | string | Class of admission legally admitting the non-immigrant to temporarily stay in U.S.               |\n",
    "\n",
    "World Temperature Data:\n",
    "\n",
    "| Field                         | Type      | Description                     |\n",
    "|-------------------------------|-----------|---------------------------------|\n",
    "| dt                            | timestamp | Sample Timestamp                |\n",
    "| AverageTemperature            | double    | Average Temperature             |\n",
    "| AverageTemperatureUncertainty | double    | Average Temperature Uncertainty |\n",
    "| City                          | string    | City                            |\n",
    "| Country                       | string    | Country                         |\n",
    "| Latitude                      | string    | Latitude with N - S indicator   |\n",
    "| Longitude                     | string    | Longitude with E - W indicator  |\n",
    "| Fi\n",
    "US Demographics Data:\n",
    "\n",
    "| Field                  | Type    | Description                       |\n",
    "|------------------------|---------|-----------------------------------|\n",
    "| City                   | string  | US City                           |\n",
    "| State                  | string  | US State                          |\n",
    "| Median Age             | double  | Median Age                        |\n",
    "| Male Population        | integer | Male Population Count             |\n",
    "| Female Population      | integer | Female Population Count           |\n",
    "| Total Population       | integer | Total Population Count            |\n",
    "| Number of Veterans     | integer | Veteran Count                     |\n",
    "| Foreign-born           | integer | Foreign born Count                |\n",
    "| Average Household Size | double  | Average Household Size            |\n",
    "| State Code             | string  | State Abbreviation                |\n",
    "| Race                   | string  | Race Identifier                   |\n",
    "| Count                  | integer | Count of Individuals of Each Race |\n",
    "\n",
    "Airport Code Data:\n",
    "\n",
    "| Field        | Type    | Description                                                                                                                                                                                                                                                                                                                                                                    |\n",
    "|--------------|---------|--------------------------------------------------------------------------------------------------------------------------------------------------------------------------------------------------------------------------------------------------------------------------------------------------------------------------------------------------------------------------------|\n",
    "| ident        | string  | The text identifier used in the OurAirports URL. This will be the ICAO code if available. Otherwise, it will be a local airport code (if no conflict), or if nothing else is available, an internally-generated code starting with the ISO2 country code, followed by a dash and a four-digit number.                                                                          |\n",
    "| type         | string  | The type of the airport. Allowed values are \"closed_airport\", \"heliport\", \"large_airport\", \"medium_airport\", \"seaplane_base\", and \"small_airport\".                                                                                                                                                                                                                             |\n",
    "| name         | string  | The official airport name, including \"Airport\", \"Airstrip\", etc.                                                                                                                                                                                                                                                                                                               |\n",
    "| elevation_ft | integer | The airport elevation MSL in feet (not metres).                                                                                                                                                                                                                                                                                                                                |\n",
    "| continent    | string  | The code for the continent where the airport is (primarily) located. Allowed values are \"AF\" (Africa), \"AN\" (Antarctica), \"AS\" (Asia), \"EU\" (Europe), \"NA\" (North America), \"OC\" (Oceania), or \"SA\" (South America).                                                                                                                                                           |\n",
    "| iso_country  | string  | The two-character ISO 3166:1-alpha2 code for the country where the airport is (primarily) located. A handful of unofficial, non-ISO codes are also in use, such as \"XK\" for Kosovo. Points to the code column in countries.csv.                                                                                                                                                |\n",
    "| iso_region   | string  | An alphanumeric code for the high-level administrative subdivision of a country where the airport is primarily located (e.g. province, governorate), prefixed by the ISO2 country code and a hyphen. OurAirports uses ISO 3166:2 codes whenever possible, preferring higher administrative levels, but also includes some custom codes. See the documentation for regions.csv. |\n",
    "| municipality | string  | The primary municipality that the airport serves (when available). Note that this is not necessarily the municipality where the airport is physically located.                                                                                                                                                                                                                 |\n",
    "| gps_code     | string  | The code that an aviation GPS database (such as Jeppesen's or Garmin's) would normally use for the airport. This will always be the ICAO code if one exists. Note that, unlike the ident column, this is not guaranteed to be globally unique.                                                                                                                                 |\n",
    "| iata_code    | string  | he three-letter IATA code for the airport (if it has one).                                                                                                                                                                                                                                                                                                                     |\n",
    "| local_code   | string  | The local country code for the airport, if different from the gps_code and iata_code fields (used mainly for US airports).                                                                                                                                                                                                                                                     |\n",
    "| coordinates  | string  | Malformed Airport Coordinates.  The Longitude is listed before the Latitude.                                                                                                                                                                                                                                                                                                   |\n",
    "\n",
    "##### Data Lake Dictionary:\n",
    "\n",
    "immi_fact table:\n",
    "\n",
    "| Field              | Type    | Description                                                                                      |\n",
    "|--------------------|---------|--------------------------------------------------------------------------------------------------|\n",
    "| cic_id             | integer | Record ID                                                                                        |\n",
    "| i94_year           | integer | 4 Digit Year                                                                                     |\n",
    "| i94_month          | integer | Numeric Month                                                                                    |\n",
    "| birth_country_code | integer | 3 Digit Code of Birth Country                                                                    |\n",
    "| res_country_code   | integer | 3 Digit Code for Country of Residence                                                            |\n",
    "| admit_port         | string  | Port of Admission Code                                                                           |\n",
    "| arrival_date       | date    | Arrival Date in the USA                                                                          |\n",
    "| trans_mode         | integer | Mode of Travel Code                                                                              |\n",
    "| arr_state          | string  | State of Arrival                                                                                 |\n",
    "| departure_date     | date    | Departure Date from the USA                                                                      |\n",
    "| immigrant_age      | integer | Age of Respondent in Years                                                                       |\n",
    "| visa_code          | integer | Visa codes collapsed into three categories                                                       |\n",
    "| summary_stat       | integer | Used for summary statistics                                                                      |\n",
    "| file_add_date      | date    | Character Date Field - Date added to I-94 Files - CIC does not use                               |\n",
    "| visa_post          | integer | Department of State where where Visa was issued - CIC does not use                               |\n",
    "| us_occupation      | string  | Occupation that will be performed in U.S. - CIC does not use                                     |\n",
    "| arr_flag           | string  | Arrival Flag - admitted or paroled into the U.S. - CIC does not use                              |\n",
    "| dep_flag           | string  | Departure Flag - Departed, lost I-94 or is deceased - CIC does not use                           |\n",
    "| upd_flag           | string  | Update Flag - Either apprehended, overstayed, adjusted to perm residence - CIC does not use      |\n",
    "| match_flag         | string  | Match flag - Match of arrival and departure records                                              |\n",
    "| birth_year         | integer | 4 digit year of birth                                                                            |\n",
    "| addmission_date    | date    | Character Date Field - Date to which admitted to U.S. (allowed to stay until) - CIC does not use |\n",
    "| gender             | string  | Non-immigrant sex                                                                                |\n",
    "| ins_num            | string  | INS number                                                                                       |\n",
    "| airline_code       | string  | Airline used to arrive in U.S.                                                                   |\n",
    "| admit_num          | integer | Admission Number                                                                                 |\n",
    "| flight_num         | string  | Flight number of Airline used to arrive in U.S.                                                  |\n",
    "| visa_type          | string  | Class of admission legally admitting the non-immigrant to temporarily stay in U.S.               |\n",
    "\n",
    "worldtemp_dim table:\n",
    "\n",
    "| Field           | Type   | Description                     |\n",
    "|-----------------|--------|---------------------------------|\n",
    "| date_stamp      | date   | Sample Date                     |\n",
    "| avg_temp        | float  | Average Temperature             |\n",
    "| avg_temp_uncert | float  | Average Temperature Uncertainty |\n",
    "| city            | string | City                            |\n",
    "| country         | string | Country                         |\n",
    "| latitude        | string | Latitude with N - S indicator   |\n",
    "| longitude       | string | Longitude with E - W indicator  |\n",
    "\n",
    "demog_dim table:\n",
    "\n",
    "| Field              | Type    | Description                       |\n",
    "|--------------------|---------|-----------------------------------|\n",
    "| city               | string  | US City                           |\n",
    "| state              | string  | US State                          |\n",
    "| median_age         | double  | Median Age                        |\n",
    "| male_population    | integer | Male Population Count             |\n",
    "| female_population  | integer | Female Population Count           |\n",
    "| total_population   | integer | Total Population Count            |\n",
    "| num_of_veterans    | integer | Veteran Count                     |\n",
    "| foreign_born       | integer | Foreign born Count                |\n",
    "| avg_household_size | double  | Average Household Size            |\n",
    "| state_code         | string  | State Abbreviation                |\n",
    "| race               | string  | Race Identifier                   |\n",
    "| count              | integer | Count of Individuals of Each Race |\n",
    "\n",
    "arptcodes_dim table:\n",
    "\n",
    "| Field           | Type    | Description                                                                                                                                                                                                                                                                                                                                                                    |\n",
    "|-----------------|---------|--------------------------------------------------------------------------------------------------------------------------------------------------------------------------------------------------------------------------------------------------------------------------------------------------------------------------------------------------------------------------------|\n",
    "| airport_id      | string  | The text identifier used in the OurAirports URL. This will be the ICAO code if available. Otherwise, it will be a local airport code (if no conflict), or if nothing else is available, an internally-generated code starting with the ISO2 country code, followed by a dash and a four-digit number.                                                                          |\n",
    "| airport_type    | string  | The type of the airport. Allowed values are \"closed_airport\", \"heliport\", \"large_airport\", \"medium_airport\", \"seaplane_base\", and \"small_airport\".                                                                                                                                                                                                                             |\n",
    "| airport_name    | string  | The official airport name, including \"Airport\", \"Airstrip\", etc.                                                                                                                                                                                                                                                                                                               |\n",
    "| elevation_ft    | integer | The airport elevation MSL in feet (not metres).                                                                                                                                                                                                                                                                                                                                |\n",
    "| continent_abbrv | string  | The code for the continent where the airport is (primarily) located. Allowed values are \"AF\" (Africa), \"AN\" (Antarctica), \"AS\" (Asia), \"EU\" (Europe), \"NA\" (North America), \"OC\" (Oceania), or \"SA\" (South America).                                                                                                                                                           |\n",
    "| country_code    | string  | The two-character ISO 3166:1-alpha2 code for the country where the airport is (primarily) located. A handful of unofficial, non-ISO codes are also in use, such as \"XK\" for Kosovo. Points to the code column in countries.csv.                                                                                                                                                |\n",
    "| region_code     | string  | An alphanumeric code for the high-level administrative subdivision of a country where the airport is primarily located (e.g. province, governorate), prefixed by the ISO2 country code and a hyphen. OurAirports uses ISO 3166:2 codes whenever possible, preferring higher administrative levels, but also includes some custom codes. See the documentation for regions.csv. |\n",
    "| municipality    | string  | The primary municipality that the airport serves (when available). Note that this is not necessarily the municipality where the airport is physically located.                                                                                                                                                                                                                 |\n",
    "| gps_code        | string  | The code that an aviation GPS database (such as Jeppesen's or Garmin's) would normally use for the airport. This will always be the ICAO code if one exists. Note that, unlike the ident column, this is not guaranteed to be globally unique.                                                                                                                                 |\n",
    "| iata_code       | string  | he three-letter IATA code for the airport (if it has one).                                                                                                                                                                                                                                                                                                                     |\n",
    "| local_code      | string  | The local country code for the airport, if different from the gps_code and iata_code fields (used mainly for US airports).                                                                                                                                                                                                                                                     |\n",
    "| latitude        | double  | Latitude of the airport in decimal format                                                                                                                                                                                                                                                                                                                                      |\n",
    "| longitude       | double  | Longitude of the airport in decimal format                                                                                                                                                                                                                                                                                                                                     |"
   ]
  },
  {
   "cell_type": "markdown",
   "metadata": {
    "editable": true
   },
   "source": [
    "#### Step 5: Complete Project Write Up\n",
    "* Clearly state the rationale for the choice of tools and technologies for the project.\n",
    "\n",
    "For this project I used Apache Spark.  Getting the data extracted, transformed and loaded is heavily compute intensive with a large dataset.  With Spark, I was able to pull in the data from a couple of different sources, do some data cleaning and correct an error with coordinate data and load the data into a data lake.  Apache Spark is a scalable solution for datasets of many different sizes and is very useful in the big data ecosystem.  Running Apache Spark on AWS EMR, scaling to meet new demands is very quick.\n",
    "\n",
    "* Propose how often the data should be updated and why.  \n",
    "  \n",
    "  \n",
    "    - The I94 Immigration Data should be updated once a month as that is the source data appears to be updated by looking at the file name.\n",
    "    - World Temperature Data should be updated once a day as the data uses an interval of 1 day.\n",
    "    - The Demographics Data should be updated once every 10 years as the information is from the U.S. Census Bureau and comes from Census data, which is collected once every 10 years.\n",
    "    - The Airport Code Data should be updated every day in the early AM as the dataset is updated nightly.  \n",
    "\n",
    "* Write a description of how you would approach the problem differently under the following scenarios:\n",
    " * The data was increased by 100x.\n",
    " \n",
    "    If the data was increased by 100, a solution like AWS EMR and AWS S3 can be scaled to handle the increased dataset.  \n",
    "  \n",
    "  \n",
    " * The data populates a dashboard that must be updated on a daily basis by 7am every day.\n",
    "  \n",
    "    To automate the population of a dashboard daily by 7 AM, a workflow orchestrator such as Apache Airflow can be used.  For datasets on different timelines, it would be possible to create seperate Directed Acyclical Graphs to handle different datasets that refresh on different timelines.  With Directed Acyclical Graphs, the automation of extraction, cleaning, quality checking and loading can all be done effectively.  \n",
    "  \n",
    "  \n",
    " * The database needed to be accessed by 100+ people.\n",
    "  \n",
    "    If the data needed to be accessed by 100 or more people, AWS S3 would be adaquate for the job as would AWS Redshift.  For in-house systems hosted on a large corporate data farm, you could also scale your systems and use mirroring in instances where a single blade on a rack is not adaquate to handle the workload.  \n",
    "     "
   ]
  },
  {
   "cell_type": "code",
   "execution_count": null,
   "metadata": {
    "editable": true
   },
   "outputs": [],
   "source": []
  },
  {
   "cell_type": "code",
   "execution_count": null,
   "metadata": {
    "editable": true
   },
   "outputs": [],
   "source": []
  },
  {
   "cell_type": "code",
   "execution_count": null,
   "metadata": {
    "editable": true
   },
   "outputs": [],
   "source": []
  },
  {
   "cell_type": "code",
   "execution_count": null,
   "metadata": {
    "editable": true
   },
   "outputs": [],
   "source": []
  },
  {
   "cell_type": "code",
   "execution_count": null,
   "metadata": {
    "editable": true
   },
   "outputs": [],
   "source": []
  },
  {
   "cell_type": "code",
   "execution_count": null,
   "metadata": {
    "editable": true
   },
   "outputs": [],
   "source": []
  }
 ],
 "metadata": {
  "kernelspec": {
   "display_name": "Python 3",
   "language": "python",
   "name": "python3"
  },
  "language_info": {
   "codemirror_mode": {
    "name": "ipython",
    "version": 3
   },
   "file_extension": ".py",
   "mimetype": "text/x-python",
   "name": "python",
   "nbconvert_exporter": "python",
   "pygments_lexer": "ipython3",
   "version": "3.6.3"
  }
 },
 "nbformat": 4,
 "nbformat_minor": 4
}
