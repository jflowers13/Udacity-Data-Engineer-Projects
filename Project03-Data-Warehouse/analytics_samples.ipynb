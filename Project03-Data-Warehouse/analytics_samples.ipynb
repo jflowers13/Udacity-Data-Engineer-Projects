{
 "cells": [
  {
   "cell_type": "markdown",
   "metadata": {},
   "source": [
    "# Project 3 Data Warehouse Analytics Samples for Sparkify  \n",
    "## Below are some sample anaylitics for the Sparkify Data Warehouse"
   ]
  },
  {
   "cell_type": "markdown",
   "metadata": {},
   "source": [
    "### Load sql for running queries"
   ]
  },
  {
   "cell_type": "code",
   "execution_count": null,
   "metadata": {},
   "outputs": [],
   "source": [
    "import configparser\n",
    "\n",
    "config = configparser.ConfigParser()\n",
    "config.read_file(open('redshiftcreator.cfg'))\n",
    "\n",
    "DWH_DB= config.get(\"DWH\",\"DWH_DB\")\n",
    "DWH_DB_USER= config.get(\"DWH\",\"DWH_DB_USER\")\n",
    "DWH_DB_PASSWORD= config.get(\"DWH\",\"DWH_DB_PASSWORD\")\n",
    "DWH_PORT = config.get(\"DWH\",\"DWH_PORT\")\n",
    "\n",
    "DWH_ENDPOINT=\"<REPLACE WITH YOUR ENDPOINT>\"\n",
    "DWH_ROLE_ARN=\"<REPLACE WITH YOUR ARN>\"\n",
    "\n",
    "%load_ext sql\n",
    "\n",
    "import os \n",
    "conn_string=\"postgresql://{}:{}@{}:{}/{}\".format(DWH_DB_USER, DWH_DB_PASSWORD, DWH_ENDPOINT, DWH_PORT,DWH_DB)\n",
    "print(conn_string)\n",
    "%sql $conn_string\n",
    "\n"
   ]
  },
  {
   "cell_type": "markdown",
   "metadata": {},
   "source": [
    "### Get 10 records from songplay Fact table"
   ]
  },
  {
   "cell_type": "code",
   "execution_count": null,
   "metadata": {},
   "outputs": [],
   "source": [
    "%%sql\n",
    "\n",
    "SELECT * FROM songplay\n",
    "LIMIT 10;"
   ]
  },
  {
   "cell_type": "markdown",
   "metadata": {},
   "source": [
    "### Top 10 Songs popular in Pennsylvania"
   ]
  },
  {
   "cell_type": "code",
   "execution_count": null,
   "metadata": {},
   "outputs": [],
   "source": [
    "%%sql\n",
    "\n",
    "SELECT so.title AS song,\n",
    "        ar.name AS artist,\n",
    "        count(sp.start_time) AS playcount\n",
    "FROM songplay AS sp\n",
    "JOIN songs AS so\n",
    "ON sp.song_id = so.song_id\n",
    "JOIN artists AS ar\n",
    "ON so.artist_id = ar.artist_id\n",
    "WHERE sp.location LIKE '%PA'\n",
    "GROUP BY song, artist\n",
    "ORDER BY playcount DESC\n",
    "LIMIT 10;"
   ]
  },
  {
   "cell_type": "markdown",
   "metadata": {},
   "source": [
    "### Top 10 Sparkify users with free level"
   ]
  },
  {
   "cell_type": "code",
   "execution_count": null,
   "metadata": {},
   "outputs": [],
   "source": [
    "%%sql\n",
    "\n",
    "SELECT u.first_name AS first_name,\n",
    "        u.last_name AS last_name,\n",
    "        u.gender AS gender,\n",
    "        u.level AS level,\n",
    "        count(sp.song_id) AS playcount\n",
    "FROM songplay AS sp\n",
    "JOIN users AS u\n",
    "ON sp.user_id = u.user_id\n",
    "JOIN time AS t\n",
    "ON sp.start_time = t.start_time\n",
    "WHERE u.level LIKE 'free'\n",
    "GROUP BY first_name, last_name, gender, u.level, t.month\n",
    "ORDER BY playcount DESC\n",
    "LIMIT 10;"
   ]
  },
  {
   "cell_type": "code",
   "execution_count": null,
   "metadata": {},
   "outputs": [],
   "source": []
  }
 ],
 "metadata": {
  "kernelspec": {
   "display_name": "Python 3 (ipykernel)",
   "language": "python",
   "name": "python3"
  },
  "language_info": {
   "codemirror_mode": {
    "name": "ipython",
    "version": 3
   },
   "file_extension": ".py",
   "mimetype": "text/x-python",
   "name": "python",
   "nbconvert_exporter": "python",
   "pygments_lexer": "ipython3",
   "version": "3.8.2"
  }
 },
 "nbformat": 4,
 "nbformat_minor": 4
}
